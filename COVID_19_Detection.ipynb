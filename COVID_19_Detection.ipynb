{
  "nbformat": 4,
  "nbformat_minor": 0,
  "metadata": {
    "colab": {
      "name": "COVID - 19 Detection",
      "provenance": [],
      "collapsed_sections": []
    },
    "kernelspec": {
      "name": "python3",
      "display_name": "Python 3"
    }
  },
  "cells": [
    {
      "cell_type": "markdown",
      "metadata": {
        "id": "_u9YXYBWgGhe"
      },
      "source": [
        "# **Fetch, Load and Draw Insights from Data**"
      ]
    },
    {
      "cell_type": "code",
      "metadata": {
        "colab": {
          "base_uri": "https://localhost:8080/"
        },
        "id": "YEe8b5t9ACU0",
        "outputId": "b5b15bb1-22b9-44c0-9882-672e809180dc"
      },
      "source": [
        "# Clone the repository that contains data\n",
        "!git clone https://github.com/ieee8023/covid-chestxray-dataset.git"
      ],
      "execution_count": null,
      "outputs": [
        {
          "output_type": "stream",
          "text": [
            "Cloning into 'covid-chestxray-dataset'...\n",
            "remote: Enumerating objects: 15, done.\u001b[K\n",
            "remote: Counting objects: 100% (15/15), done.\u001b[K\n",
            "remote: Compressing objects: 100% (10/10), done.\u001b[K\n",
            "remote: Total 3614 (delta 7), reused 11 (delta 5), pack-reused 3599\u001b[K\n",
            "Receiving objects: 100% (3614/3614), 633.00 MiB | 39.75 MiB/s, done.\n",
            "Resolving deltas: 100% (1430/1430), done.\n",
            "Checking out files: 100% (1173/1173), done.\n"
          ],
          "name": "stdout"
        }
      ]
    },
    {
      "cell_type": "code",
      "metadata": {
        "colab": {
          "base_uri": "https://localhost:8080/",
          "height": 469
        },
        "id": "1Qt_3t92ChGr",
        "outputId": "14a63f13-2629-4f06-858c-cb491221f4bd"
      },
      "source": [
        "# Read data as pandas dataframe\n",
        "import pandas as pd\n",
        "import pickle as pkl\n",
        "\n",
        "metadata = pd.read_csv(\"covid-chestxray-dataset/metadata.csv\")\n",
        "metadata = metadata.drop([\"Unnamed: 29\", \"patientid\", \"temperature\", \"pO2_saturation\", \"leukocyte_count\", \"survival\", \"neutrophil_count\", \"lymphocyte_count\", \"modality\", \"date\", \"location\", \"folder\", \"doi\", \"url\", \"license\", \"extubated\", \"other_notes\"], axis=1)\n",
        "metadata.head()"
      ],
      "execution_count": null,
      "outputs": [
        {
          "output_type": "execute_result",
          "data": {
            "text/html": [
              "<div>\n",
              "<style scoped>\n",
              "    .dataframe tbody tr th:only-of-type {\n",
              "        vertical-align: middle;\n",
              "    }\n",
              "\n",
              "    .dataframe tbody tr th {\n",
              "        vertical-align: top;\n",
              "    }\n",
              "\n",
              "    .dataframe thead th {\n",
              "        text-align: right;\n",
              "    }\n",
              "</style>\n",
              "<table border=\"1\" class=\"dataframe\">\n",
              "  <thead>\n",
              "    <tr style=\"text-align: right;\">\n",
              "      <th></th>\n",
              "      <th>offset</th>\n",
              "      <th>sex</th>\n",
              "      <th>age</th>\n",
              "      <th>finding</th>\n",
              "      <th>RT_PCR_positive</th>\n",
              "      <th>intubated</th>\n",
              "      <th>intubation_present</th>\n",
              "      <th>went_icu</th>\n",
              "      <th>in_icu</th>\n",
              "      <th>needed_supplemental_O2</th>\n",
              "      <th>view</th>\n",
              "      <th>filename</th>\n",
              "      <th>clinical_notes</th>\n",
              "    </tr>\n",
              "  </thead>\n",
              "  <tbody>\n",
              "    <tr>\n",
              "      <th>0</th>\n",
              "      <td>0.0</td>\n",
              "      <td>M</td>\n",
              "      <td>65.0</td>\n",
              "      <td>Pneumonia/Viral/COVID-19</td>\n",
              "      <td>Y</td>\n",
              "      <td>N</td>\n",
              "      <td>N</td>\n",
              "      <td>N</td>\n",
              "      <td>N</td>\n",
              "      <td>Y</td>\n",
              "      <td>PA</td>\n",
              "      <td>auntminnie-a-2020_01_28_23_51_6665_2020_01_28_...</td>\n",
              "      <td>On January 22, 2020, a 65-year-old man with a ...</td>\n",
              "    </tr>\n",
              "    <tr>\n",
              "      <th>1</th>\n",
              "      <td>3.0</td>\n",
              "      <td>M</td>\n",
              "      <td>65.0</td>\n",
              "      <td>Pneumonia/Viral/COVID-19</td>\n",
              "      <td>Y</td>\n",
              "      <td>N</td>\n",
              "      <td>N</td>\n",
              "      <td>N</td>\n",
              "      <td>N</td>\n",
              "      <td>Y</td>\n",
              "      <td>PA</td>\n",
              "      <td>auntminnie-b-2020_01_28_23_51_6665_2020_01_28_...</td>\n",
              "      <td>On January 22, 2020, a 65-year-old man with a ...</td>\n",
              "    </tr>\n",
              "    <tr>\n",
              "      <th>2</th>\n",
              "      <td>5.0</td>\n",
              "      <td>M</td>\n",
              "      <td>65.0</td>\n",
              "      <td>Pneumonia/Viral/COVID-19</td>\n",
              "      <td>Y</td>\n",
              "      <td>N</td>\n",
              "      <td>N</td>\n",
              "      <td>N</td>\n",
              "      <td>N</td>\n",
              "      <td>Y</td>\n",
              "      <td>PA</td>\n",
              "      <td>auntminnie-c-2020_01_28_23_51_6665_2020_01_28_...</td>\n",
              "      <td>On January 22, 2020, a 65-year-old man with a ...</td>\n",
              "    </tr>\n",
              "    <tr>\n",
              "      <th>3</th>\n",
              "      <td>6.0</td>\n",
              "      <td>M</td>\n",
              "      <td>65.0</td>\n",
              "      <td>Pneumonia/Viral/COVID-19</td>\n",
              "      <td>Y</td>\n",
              "      <td>N</td>\n",
              "      <td>N</td>\n",
              "      <td>N</td>\n",
              "      <td>N</td>\n",
              "      <td>Y</td>\n",
              "      <td>PA</td>\n",
              "      <td>auntminnie-d-2020_01_28_23_51_6665_2020_01_28_...</td>\n",
              "      <td>On January 22, 2020, a 65-year-old man with a ...</td>\n",
              "    </tr>\n",
              "    <tr>\n",
              "      <th>4</th>\n",
              "      <td>0.0</td>\n",
              "      <td>F</td>\n",
              "      <td>52.0</td>\n",
              "      <td>Pneumonia/Viral/COVID-19</td>\n",
              "      <td>Y</td>\n",
              "      <td>N</td>\n",
              "      <td>N</td>\n",
              "      <td>N</td>\n",
              "      <td>N</td>\n",
              "      <td>N</td>\n",
              "      <td>PA</td>\n",
              "      <td>nejmc2001573_f1a.jpeg</td>\n",
              "      <td>diffuse infiltrates in the bilateral lower lungs</td>\n",
              "    </tr>\n",
              "  </tbody>\n",
              "</table>\n",
              "</div>"
            ],
            "text/plain": [
              "   offset  ...                                     clinical_notes\n",
              "0     0.0  ...  On January 22, 2020, a 65-year-old man with a ...\n",
              "1     3.0  ...  On January 22, 2020, a 65-year-old man with a ...\n",
              "2     5.0  ...  On January 22, 2020, a 65-year-old man with a ...\n",
              "3     6.0  ...  On January 22, 2020, a 65-year-old man with a ...\n",
              "4     0.0  ...   diffuse infiltrates in the bilateral lower lungs\n",
              "\n",
              "[5 rows x 13 columns]"
            ]
          },
          "metadata": {
            "tags": []
          },
          "execution_count": 2
        }
      ]
    },
    {
      "cell_type": "code",
      "metadata": {
        "colab": {
          "base_uri": "https://localhost:8080/"
        },
        "id": "1fQ6vDNIFfED",
        "outputId": "d7d59d4a-732a-4a09-8917-8fc43fc7bd5f"
      },
      "source": [
        "# Analyse what different types of diseases are present\n",
        "metadata[\"finding\"].unique()"
      ],
      "execution_count": null,
      "outputs": [
        {
          "output_type": "execute_result",
          "data": {
            "text/plain": [
              "array(['Pneumonia/Viral/COVID-19', 'Pneumonia', 'Pneumonia/Viral/SARS',\n",
              "       'Pneumonia/Fungal/Pneumocystis',\n",
              "       'Pneumonia/Bacterial/Streptococcus', 'No Finding',\n",
              "       'Pneumonia/Bacterial/Chlamydophila', 'Pneumonia/Bacterial/E.Coli',\n",
              "       'Pneumonia/Bacterial/Klebsiella', 'Pneumonia/Bacterial/Legionella',\n",
              "       'Unknown', 'Pneumonia/Lipoid', 'Pneumonia/Viral/Varicella',\n",
              "       'Pneumonia/Bacterial', 'Pneumonia/Bacterial/Mycoplasma',\n",
              "       'Pneumonia/Viral/Influenza', 'todo', 'Tuberculosis',\n",
              "       'Pneumonia/Viral/Influenza/H1N1', 'Pneumonia/Fungal/Aspergillosis',\n",
              "       'Pneumonia/Viral/Herpes ', 'Pneumonia/Aspiration',\n",
              "       'Pneumonia/Bacterial/Nocardia', 'Pneumonia/Viral/MERS-CoV',\n",
              "       'Pneumonia/Bacterial/Staphylococcus/MRSA'], dtype=object)"
            ]
          },
          "metadata": {
            "tags": []
          },
          "execution_count": 3
        }
      ]
    },
    {
      "cell_type": "markdown",
      "metadata": {
        "id": "pj9S_oWwgUe7"
      },
      "source": [
        "# **Preprocess Data**"
      ]
    },
    {
      "cell_type": "code",
      "metadata": {
        "colab": {
          "base_uri": "https://localhost:8080/",
          "height": 469
        },
        "id": "pQUzZiRIiTjp",
        "outputId": "a23ce5ff-7cb5-4829-95a1-053398ac98fa"
      },
      "source": [
        "# Add a new column \"label\" containing the label 1 if finding is \"Pneumonia/Viral/COVID-19\" else 0\n",
        "possible_labels = metadata.finding.unique()\n",
        "labels_dict = {possible_label: (1 if possible_label == \"Pneumonia/Viral/COVID-19\" else 0) for possible_label in possible_labels}\n",
        "metadata[\"label\"] = metadata.finding.replace(labels_dict)\n",
        "metadata.head()"
      ],
      "execution_count": null,
      "outputs": [
        {
          "output_type": "execute_result",
          "data": {
            "text/html": [
              "<div>\n",
              "<style scoped>\n",
              "    .dataframe tbody tr th:only-of-type {\n",
              "        vertical-align: middle;\n",
              "    }\n",
              "\n",
              "    .dataframe tbody tr th {\n",
              "        vertical-align: top;\n",
              "    }\n",
              "\n",
              "    .dataframe thead th {\n",
              "        text-align: right;\n",
              "    }\n",
              "</style>\n",
              "<table border=\"1\" class=\"dataframe\">\n",
              "  <thead>\n",
              "    <tr style=\"text-align: right;\">\n",
              "      <th></th>\n",
              "      <th>offset</th>\n",
              "      <th>sex</th>\n",
              "      <th>age</th>\n",
              "      <th>finding</th>\n",
              "      <th>RT_PCR_positive</th>\n",
              "      <th>intubated</th>\n",
              "      <th>intubation_present</th>\n",
              "      <th>went_icu</th>\n",
              "      <th>in_icu</th>\n",
              "      <th>needed_supplemental_O2</th>\n",
              "      <th>view</th>\n",
              "      <th>filename</th>\n",
              "      <th>clinical_notes</th>\n",
              "      <th>label</th>\n",
              "    </tr>\n",
              "  </thead>\n",
              "  <tbody>\n",
              "    <tr>\n",
              "      <th>0</th>\n",
              "      <td>0.0</td>\n",
              "      <td>M</td>\n",
              "      <td>65.0</td>\n",
              "      <td>Pneumonia/Viral/COVID-19</td>\n",
              "      <td>Y</td>\n",
              "      <td>N</td>\n",
              "      <td>N</td>\n",
              "      <td>N</td>\n",
              "      <td>N</td>\n",
              "      <td>Y</td>\n",
              "      <td>PA</td>\n",
              "      <td>auntminnie-a-2020_01_28_23_51_6665_2020_01_28_...</td>\n",
              "      <td>On January 22, 2020, a 65-year-old man with a ...</td>\n",
              "      <td>1</td>\n",
              "    </tr>\n",
              "    <tr>\n",
              "      <th>1</th>\n",
              "      <td>3.0</td>\n",
              "      <td>M</td>\n",
              "      <td>65.0</td>\n",
              "      <td>Pneumonia/Viral/COVID-19</td>\n",
              "      <td>Y</td>\n",
              "      <td>N</td>\n",
              "      <td>N</td>\n",
              "      <td>N</td>\n",
              "      <td>N</td>\n",
              "      <td>Y</td>\n",
              "      <td>PA</td>\n",
              "      <td>auntminnie-b-2020_01_28_23_51_6665_2020_01_28_...</td>\n",
              "      <td>On January 22, 2020, a 65-year-old man with a ...</td>\n",
              "      <td>1</td>\n",
              "    </tr>\n",
              "    <tr>\n",
              "      <th>2</th>\n",
              "      <td>5.0</td>\n",
              "      <td>M</td>\n",
              "      <td>65.0</td>\n",
              "      <td>Pneumonia/Viral/COVID-19</td>\n",
              "      <td>Y</td>\n",
              "      <td>N</td>\n",
              "      <td>N</td>\n",
              "      <td>N</td>\n",
              "      <td>N</td>\n",
              "      <td>Y</td>\n",
              "      <td>PA</td>\n",
              "      <td>auntminnie-c-2020_01_28_23_51_6665_2020_01_28_...</td>\n",
              "      <td>On January 22, 2020, a 65-year-old man with a ...</td>\n",
              "      <td>1</td>\n",
              "    </tr>\n",
              "    <tr>\n",
              "      <th>3</th>\n",
              "      <td>6.0</td>\n",
              "      <td>M</td>\n",
              "      <td>65.0</td>\n",
              "      <td>Pneumonia/Viral/COVID-19</td>\n",
              "      <td>Y</td>\n",
              "      <td>N</td>\n",
              "      <td>N</td>\n",
              "      <td>N</td>\n",
              "      <td>N</td>\n",
              "      <td>Y</td>\n",
              "      <td>PA</td>\n",
              "      <td>auntminnie-d-2020_01_28_23_51_6665_2020_01_28_...</td>\n",
              "      <td>On January 22, 2020, a 65-year-old man with a ...</td>\n",
              "      <td>1</td>\n",
              "    </tr>\n",
              "    <tr>\n",
              "      <th>4</th>\n",
              "      <td>0.0</td>\n",
              "      <td>F</td>\n",
              "      <td>52.0</td>\n",
              "      <td>Pneumonia/Viral/COVID-19</td>\n",
              "      <td>Y</td>\n",
              "      <td>N</td>\n",
              "      <td>N</td>\n",
              "      <td>N</td>\n",
              "      <td>N</td>\n",
              "      <td>N</td>\n",
              "      <td>PA</td>\n",
              "      <td>nejmc2001573_f1a.jpeg</td>\n",
              "      <td>diffuse infiltrates in the bilateral lower lungs</td>\n",
              "      <td>1</td>\n",
              "    </tr>\n",
              "  </tbody>\n",
              "</table>\n",
              "</div>"
            ],
            "text/plain": [
              "   offset sex  ...                                     clinical_notes label\n",
              "0     0.0   M  ...  On January 22, 2020, a 65-year-old man with a ...     1\n",
              "1     3.0   M  ...  On January 22, 2020, a 65-year-old man with a ...     1\n",
              "2     5.0   M  ...  On January 22, 2020, a 65-year-old man with a ...     1\n",
              "3     6.0   M  ...  On January 22, 2020, a 65-year-old man with a ...     1\n",
              "4     0.0   F  ...   diffuse infiltrates in the bilateral lower lungs     1\n",
              "\n",
              "[5 rows x 14 columns]"
            ]
          },
          "metadata": {
            "tags": []
          },
          "execution_count": 4
        }
      ]
    },
    {
      "cell_type": "code",
      "metadata": {
        "colab": {
          "base_uri": "https://localhost:8080/",
          "height": 469
        },
        "id": "ZiBe25fekCoF",
        "outputId": "9d8681e0-c259-491a-be5e-87d453bf22e9"
      },
      "source": [
        "# Change the finding \"Pneumonia/Viral/COVID-19\" to \"COVID-19\"\n",
        "covid_metadata = metadata.replace(to_replace=\"Pneumonia/Viral/COVID-19\", value=\"COVID-19\")\n",
        "covid_metadata.head()"
      ],
      "execution_count": null,
      "outputs": [
        {
          "output_type": "execute_result",
          "data": {
            "text/html": [
              "<div>\n",
              "<style scoped>\n",
              "    .dataframe tbody tr th:only-of-type {\n",
              "        vertical-align: middle;\n",
              "    }\n",
              "\n",
              "    .dataframe tbody tr th {\n",
              "        vertical-align: top;\n",
              "    }\n",
              "\n",
              "    .dataframe thead th {\n",
              "        text-align: right;\n",
              "    }\n",
              "</style>\n",
              "<table border=\"1\" class=\"dataframe\">\n",
              "  <thead>\n",
              "    <tr style=\"text-align: right;\">\n",
              "      <th></th>\n",
              "      <th>offset</th>\n",
              "      <th>sex</th>\n",
              "      <th>age</th>\n",
              "      <th>finding</th>\n",
              "      <th>RT_PCR_positive</th>\n",
              "      <th>intubated</th>\n",
              "      <th>intubation_present</th>\n",
              "      <th>went_icu</th>\n",
              "      <th>in_icu</th>\n",
              "      <th>needed_supplemental_O2</th>\n",
              "      <th>view</th>\n",
              "      <th>filename</th>\n",
              "      <th>clinical_notes</th>\n",
              "      <th>label</th>\n",
              "    </tr>\n",
              "  </thead>\n",
              "  <tbody>\n",
              "    <tr>\n",
              "      <th>0</th>\n",
              "      <td>0.0</td>\n",
              "      <td>M</td>\n",
              "      <td>65.0</td>\n",
              "      <td>COVID-19</td>\n",
              "      <td>Y</td>\n",
              "      <td>N</td>\n",
              "      <td>N</td>\n",
              "      <td>N</td>\n",
              "      <td>N</td>\n",
              "      <td>Y</td>\n",
              "      <td>PA</td>\n",
              "      <td>auntminnie-a-2020_01_28_23_51_6665_2020_01_28_...</td>\n",
              "      <td>On January 22, 2020, a 65-year-old man with a ...</td>\n",
              "      <td>1</td>\n",
              "    </tr>\n",
              "    <tr>\n",
              "      <th>1</th>\n",
              "      <td>3.0</td>\n",
              "      <td>M</td>\n",
              "      <td>65.0</td>\n",
              "      <td>COVID-19</td>\n",
              "      <td>Y</td>\n",
              "      <td>N</td>\n",
              "      <td>N</td>\n",
              "      <td>N</td>\n",
              "      <td>N</td>\n",
              "      <td>Y</td>\n",
              "      <td>PA</td>\n",
              "      <td>auntminnie-b-2020_01_28_23_51_6665_2020_01_28_...</td>\n",
              "      <td>On January 22, 2020, a 65-year-old man with a ...</td>\n",
              "      <td>1</td>\n",
              "    </tr>\n",
              "    <tr>\n",
              "      <th>2</th>\n",
              "      <td>5.0</td>\n",
              "      <td>M</td>\n",
              "      <td>65.0</td>\n",
              "      <td>COVID-19</td>\n",
              "      <td>Y</td>\n",
              "      <td>N</td>\n",
              "      <td>N</td>\n",
              "      <td>N</td>\n",
              "      <td>N</td>\n",
              "      <td>Y</td>\n",
              "      <td>PA</td>\n",
              "      <td>auntminnie-c-2020_01_28_23_51_6665_2020_01_28_...</td>\n",
              "      <td>On January 22, 2020, a 65-year-old man with a ...</td>\n",
              "      <td>1</td>\n",
              "    </tr>\n",
              "    <tr>\n",
              "      <th>3</th>\n",
              "      <td>6.0</td>\n",
              "      <td>M</td>\n",
              "      <td>65.0</td>\n",
              "      <td>COVID-19</td>\n",
              "      <td>Y</td>\n",
              "      <td>N</td>\n",
              "      <td>N</td>\n",
              "      <td>N</td>\n",
              "      <td>N</td>\n",
              "      <td>Y</td>\n",
              "      <td>PA</td>\n",
              "      <td>auntminnie-d-2020_01_28_23_51_6665_2020_01_28_...</td>\n",
              "      <td>On January 22, 2020, a 65-year-old man with a ...</td>\n",
              "      <td>1</td>\n",
              "    </tr>\n",
              "    <tr>\n",
              "      <th>4</th>\n",
              "      <td>0.0</td>\n",
              "      <td>F</td>\n",
              "      <td>52.0</td>\n",
              "      <td>COVID-19</td>\n",
              "      <td>Y</td>\n",
              "      <td>N</td>\n",
              "      <td>N</td>\n",
              "      <td>N</td>\n",
              "      <td>N</td>\n",
              "      <td>N</td>\n",
              "      <td>PA</td>\n",
              "      <td>nejmc2001573_f1a.jpeg</td>\n",
              "      <td>diffuse infiltrates in the bilateral lower lungs</td>\n",
              "      <td>1</td>\n",
              "    </tr>\n",
              "  </tbody>\n",
              "</table>\n",
              "</div>"
            ],
            "text/plain": [
              "   offset sex  ...                                     clinical_notes label\n",
              "0     0.0   M  ...  On January 22, 2020, a 65-year-old man with a ...     1\n",
              "1     3.0   M  ...  On January 22, 2020, a 65-year-old man with a ...     1\n",
              "2     5.0   M  ...  On January 22, 2020, a 65-year-old man with a ...     1\n",
              "3     6.0   M  ...  On January 22, 2020, a 65-year-old man with a ...     1\n",
              "4     0.0   F  ...   diffuse infiltrates in the bilateral lower lungs     1\n",
              "\n",
              "[5 rows x 14 columns]"
            ]
          },
          "metadata": {
            "tags": []
          },
          "execution_count": 5
        }
      ]
    },
    {
      "cell_type": "markdown",
      "metadata": {
        "id": "M4nr83SNa40Y"
      },
      "source": [
        "# **Generate Image Embeddings**\n",
        "I've used state-of-the-art EfficientNetB7 architecture for generating image embeddings."
      ]
    },
    {
      "cell_type": "code",
      "metadata": {
        "id": "tRQYumlOadBK"
      },
      "source": [
        "# If you already have image embeddings, load them and skip the execution of next cell\n",
        "image_embeddings = pkl.load(open('image_embeddings.pkl', 'rb'))"
      ],
      "execution_count": null,
      "outputs": []
    },
    {
      "cell_type": "code",
      "metadata": {
        "id": "Na-AzvFfFZuH"
      },
      "source": [
        "from tensorflow.keras.models import Model\n",
        "from tensorflow.keras.applications.efficientnet import EfficientNetB7, preprocess_input\n",
        "\n",
        "# Load the model\n",
        "model = EfficientNetB7(include_top=True)\n",
        "new_model = Model(inputs=model.input, outputs=model.layers[-3].output)\n",
        "new_model.summary()\n",
        "\n",
        "\n",
        "# Generate image embeddings\n",
        "import cv2\n",
        "import os\n",
        "from tqdm import tqdm\n",
        "\n",
        "image_embeddings = list()\n",
        "image_series = covid_metadata.filename\n",
        "\n",
        "c = 0\n",
        "for image_name in tqdm(image_series):\n",
        "  try:\n",
        "    image = cv2.imread(\"covid-chestxray-dataset/images/\" + image_name)\n",
        "    image = cv2.resize(image, (600, 600))\n",
        "    image = image.reshape((1, image.shape[0], image.shape[1], image.shape[2]))\n",
        "    image = preprocess_input(image)\n",
        "    image_embedding = new_model.predict(image)\n",
        "    image_embeddings.append(image_embedding[0])\n",
        "  except:\n",
        "    c += 1\n",
        "    image_embeddings.append(None)\n",
        "\n",
        "pkl.dump(image_embeddings, open('image_embeddings.pkl', 'wb'))\n",
        "\n",
        "print(f\"\\nFailed to generate image embeddings for {c} images.\")"
      ],
      "execution_count": null,
      "outputs": []
    },
    {
      "cell_type": "code",
      "metadata": {
        "colab": {
          "base_uri": "https://localhost:8080/",
          "height": 487
        },
        "id": "bwC3QL0nDISB",
        "outputId": "d97ee8bc-1ee3-48ba-f5f9-49c8085f337a"
      },
      "source": [
        "# Add image embeddings as a new column to dataframe\n",
        "covid_metadata['image_embeddings'] = image_embeddings\n",
        "covid_metadata.head()"
      ],
      "execution_count": null,
      "outputs": [
        {
          "output_type": "execute_result",
          "data": {
            "text/html": [
              "<div>\n",
              "<style scoped>\n",
              "    .dataframe tbody tr th:only-of-type {\n",
              "        vertical-align: middle;\n",
              "    }\n",
              "\n",
              "    .dataframe tbody tr th {\n",
              "        vertical-align: top;\n",
              "    }\n",
              "\n",
              "    .dataframe thead th {\n",
              "        text-align: right;\n",
              "    }\n",
              "</style>\n",
              "<table border=\"1\" class=\"dataframe\">\n",
              "  <thead>\n",
              "    <tr style=\"text-align: right;\">\n",
              "      <th></th>\n",
              "      <th>offset</th>\n",
              "      <th>sex</th>\n",
              "      <th>age</th>\n",
              "      <th>finding</th>\n",
              "      <th>RT_PCR_positive</th>\n",
              "      <th>intubated</th>\n",
              "      <th>intubation_present</th>\n",
              "      <th>went_icu</th>\n",
              "      <th>in_icu</th>\n",
              "      <th>needed_supplemental_O2</th>\n",
              "      <th>view</th>\n",
              "      <th>filename</th>\n",
              "      <th>clinical_notes</th>\n",
              "      <th>label</th>\n",
              "      <th>image_embeddings</th>\n",
              "    </tr>\n",
              "  </thead>\n",
              "  <tbody>\n",
              "    <tr>\n",
              "      <th>0</th>\n",
              "      <td>0.0</td>\n",
              "      <td>M</td>\n",
              "      <td>65.0</td>\n",
              "      <td>COVID-19</td>\n",
              "      <td>Y</td>\n",
              "      <td>N</td>\n",
              "      <td>N</td>\n",
              "      <td>N</td>\n",
              "      <td>N</td>\n",
              "      <td>Y</td>\n",
              "      <td>PA</td>\n",
              "      <td>auntminnie-a-2020_01_28_23_51_6665_2020_01_28_...</td>\n",
              "      <td>On January 22, 2020, a 65-year-old man with a ...</td>\n",
              "      <td>1</td>\n",
              "      <td>[0.16646779, 0.37802455, 0.043559056, 0.090420...</td>\n",
              "    </tr>\n",
              "    <tr>\n",
              "      <th>1</th>\n",
              "      <td>3.0</td>\n",
              "      <td>M</td>\n",
              "      <td>65.0</td>\n",
              "      <td>COVID-19</td>\n",
              "      <td>Y</td>\n",
              "      <td>N</td>\n",
              "      <td>N</td>\n",
              "      <td>N</td>\n",
              "      <td>N</td>\n",
              "      <td>Y</td>\n",
              "      <td>PA</td>\n",
              "      <td>auntminnie-b-2020_01_28_23_51_6665_2020_01_28_...</td>\n",
              "      <td>On January 22, 2020, a 65-year-old man with a ...</td>\n",
              "      <td>1</td>\n",
              "      <td>[0.24965343, 0.12475621, -0.047701336, 0.18407...</td>\n",
              "    </tr>\n",
              "    <tr>\n",
              "      <th>2</th>\n",
              "      <td>5.0</td>\n",
              "      <td>M</td>\n",
              "      <td>65.0</td>\n",
              "      <td>COVID-19</td>\n",
              "      <td>Y</td>\n",
              "      <td>N</td>\n",
              "      <td>N</td>\n",
              "      <td>N</td>\n",
              "      <td>N</td>\n",
              "      <td>Y</td>\n",
              "      <td>PA</td>\n",
              "      <td>auntminnie-c-2020_01_28_23_51_6665_2020_01_28_...</td>\n",
              "      <td>On January 22, 2020, a 65-year-old man with a ...</td>\n",
              "      <td>1</td>\n",
              "      <td>[0.18539263, 0.16858068, 0.020502465, 0.060199...</td>\n",
              "    </tr>\n",
              "    <tr>\n",
              "      <th>3</th>\n",
              "      <td>6.0</td>\n",
              "      <td>M</td>\n",
              "      <td>65.0</td>\n",
              "      <td>COVID-19</td>\n",
              "      <td>Y</td>\n",
              "      <td>N</td>\n",
              "      <td>N</td>\n",
              "      <td>N</td>\n",
              "      <td>N</td>\n",
              "      <td>Y</td>\n",
              "      <td>PA</td>\n",
              "      <td>auntminnie-d-2020_01_28_23_51_6665_2020_01_28_...</td>\n",
              "      <td>On January 22, 2020, a 65-year-old man with a ...</td>\n",
              "      <td>1</td>\n",
              "      <td>[0.20033258, 0.12199223, 0.019694442, 0.064149...</td>\n",
              "    </tr>\n",
              "    <tr>\n",
              "      <th>4</th>\n",
              "      <td>0.0</td>\n",
              "      <td>F</td>\n",
              "      <td>52.0</td>\n",
              "      <td>COVID-19</td>\n",
              "      <td>Y</td>\n",
              "      <td>N</td>\n",
              "      <td>N</td>\n",
              "      <td>N</td>\n",
              "      <td>N</td>\n",
              "      <td>N</td>\n",
              "      <td>PA</td>\n",
              "      <td>nejmc2001573_f1a.jpeg</td>\n",
              "      <td>diffuse infiltrates in the bilateral lower lungs</td>\n",
              "      <td>1</td>\n",
              "      <td>[0.11523124, 0.33968022, 0.024405614, 0.166120...</td>\n",
              "    </tr>\n",
              "  </tbody>\n",
              "</table>\n",
              "</div>"
            ],
            "text/plain": [
              "   offset sex  ...  label                                   image_embeddings\n",
              "0     0.0   M  ...      1  [0.16646779, 0.37802455, 0.043559056, 0.090420...\n",
              "1     3.0   M  ...      1  [0.24965343, 0.12475621, -0.047701336, 0.18407...\n",
              "2     5.0   M  ...      1  [0.18539263, 0.16858068, 0.020502465, 0.060199...\n",
              "3     6.0   M  ...      1  [0.20033258, 0.12199223, 0.019694442, 0.064149...\n",
              "4     0.0   F  ...      1  [0.11523124, 0.33968022, 0.024405614, 0.166120...\n",
              "\n",
              "[5 rows x 15 columns]"
            ]
          },
          "metadata": {
            "tags": []
          },
          "execution_count": 7
        }
      ]
    },
    {
      "cell_type": "code",
      "metadata": {
        "colab": {
          "base_uri": "https://localhost:8080/"
        },
        "id": "Hu3sgM6VWV_W",
        "outputId": "600b87f2-6fe6-4292-d52d-37bab2ff45d9"
      },
      "source": [
        " # Drop samples whose image embeddings are None\n",
        " print(f\"Shape without removing null image embeddings: {covid_metadata.shape}\")\n",
        " covid_metadata = covid_metadata.dropna(axis=0, subset=['image_embeddings'])\n",
        " print(f\"Shape after removing null image embeddings: {covid_metadata.shape}\")"
      ],
      "execution_count": null,
      "outputs": [
        {
          "output_type": "stream",
          "text": [
            "Shape without removing null image embeddings: (950, 15)\n",
            "Shape after removing null image embeddings: (929, 15)\n"
          ],
          "name": "stdout"
        }
      ]
    },
    {
      "cell_type": "markdown",
      "metadata": {
        "id": "G4B7-AI0a-5X"
      },
      "source": [
        "# **Generate Text Embeddings (Clinical Notes Embeddings)**\n",
        "Even clinical notes are important for drawing inferences about a patien't condition. We cannot neglect them. So I've used BioSentVec model, which is specifically trained on a very huge corpus of medical data, to convert these clinical notes into numbers and generate text embeddings. "
      ]
    },
    {
      "cell_type": "code",
      "metadata": {
        "id": "82yvgrb-dodb"
      },
      "source": [
        "# If you already have text_embeddings, load them and skip the execution of next cell\n",
        "text_embeddings = pkl.load(open('text_embeddings.pkl', 'rb'))"
      ],
      "execution_count": null,
      "outputs": []
    },
    {
      "cell_type": "code",
      "metadata": {
        "id": "U-SAnwL9SZLI"
      },
      "source": [
        "# Download BioSentVec model for generating clinical notes embeddings\n",
        "!wget https://ftp.ncbi.nlm.nih.gov/pub/lu/Suppl/BioSentVec/BioSentVec_PubMed_MIMICIII-bigram_d700.bin\n",
        "\n",
        "# Install sent2vec required for loading BioSentVec model\n",
        "!wget https://github.com/epfml/sent2vec/archive/master.zip\n",
        "!unzip master.zip\n",
        "%cd sent2vec-master\n",
        "!make\n",
        "!sudo pip install .\n",
        "\n",
        "# Load BioSentVec model\n",
        "import sent2vec\n",
        "\n",
        "model = sent2vec.Sent2vecModel()\n",
        "model.load_model('BioSentVec_PubMed_MIMICIII-bigram_d700.bin')\n",
        "\n",
        "# Generate text embeddings\n",
        "text_embeddings = list()\n",
        "text_series = covid_metadata.clinical_notes\n",
        "\n",
        "c = 0\n",
        "for clinical_data in text_series:\n",
        "  try:\n",
        "    text_embedding = model.embed_sentence(clinical_data)\n",
        "    text_embeddings.append(text_embedding[0])\n",
        "  except:\n",
        "    c += 1\n",
        "    text_embeddings.append(model.embed_sentence(\"No clinical notes are available for this patient.\")[0])\n",
        "\n",
        "pkl.dump(text_embeddings, open('text_embeddings.pkl', 'wb'))\n",
        "print(f\"\\nFailed to generate text embeddings for {c} texts.\")"
      ],
      "execution_count": null,
      "outputs": []
    },
    {
      "cell_type": "code",
      "metadata": {
        "colab": {
          "base_uri": "https://localhost:8080/",
          "height": 487
        },
        "id": "M0v6JAskXDFE",
        "outputId": "abfe36d1-3dc5-45f8-abf7-f5a66e8b7cf9"
      },
      "source": [
        "# Add text embeddings as a new column to the dataframe\n",
        "covid_metadata['text_embeddings'] = text_embeddings\n",
        "covid_metadata.head()"
      ],
      "execution_count": null,
      "outputs": [
        {
          "output_type": "execute_result",
          "data": {
            "text/html": [
              "<div>\n",
              "<style scoped>\n",
              "    .dataframe tbody tr th:only-of-type {\n",
              "        vertical-align: middle;\n",
              "    }\n",
              "\n",
              "    .dataframe tbody tr th {\n",
              "        vertical-align: top;\n",
              "    }\n",
              "\n",
              "    .dataframe thead th {\n",
              "        text-align: right;\n",
              "    }\n",
              "</style>\n",
              "<table border=\"1\" class=\"dataframe\">\n",
              "  <thead>\n",
              "    <tr style=\"text-align: right;\">\n",
              "      <th></th>\n",
              "      <th>offset</th>\n",
              "      <th>sex</th>\n",
              "      <th>age</th>\n",
              "      <th>finding</th>\n",
              "      <th>RT_PCR_positive</th>\n",
              "      <th>intubated</th>\n",
              "      <th>intubation_present</th>\n",
              "      <th>went_icu</th>\n",
              "      <th>in_icu</th>\n",
              "      <th>needed_supplemental_O2</th>\n",
              "      <th>view</th>\n",
              "      <th>filename</th>\n",
              "      <th>clinical_notes</th>\n",
              "      <th>label</th>\n",
              "      <th>image_embeddings</th>\n",
              "      <th>text_embeddings</th>\n",
              "    </tr>\n",
              "  </thead>\n",
              "  <tbody>\n",
              "    <tr>\n",
              "      <th>0</th>\n",
              "      <td>0.0</td>\n",
              "      <td>M</td>\n",
              "      <td>65.0</td>\n",
              "      <td>COVID-19</td>\n",
              "      <td>Y</td>\n",
              "      <td>N</td>\n",
              "      <td>N</td>\n",
              "      <td>N</td>\n",
              "      <td>N</td>\n",
              "      <td>Y</td>\n",
              "      <td>PA</td>\n",
              "      <td>auntminnie-a-2020_01_28_23_51_6665_2020_01_28_...</td>\n",
              "      <td>On January 22, 2020, a 65-year-old man with a ...</td>\n",
              "      <td>1</td>\n",
              "      <td>[0.16646779, 0.37802455, 0.043559056, 0.090420...</td>\n",
              "      <td>[-0.010609061, -0.03510914, 0.013853411, -0.08...</td>\n",
              "    </tr>\n",
              "    <tr>\n",
              "      <th>1</th>\n",
              "      <td>3.0</td>\n",
              "      <td>M</td>\n",
              "      <td>65.0</td>\n",
              "      <td>COVID-19</td>\n",
              "      <td>Y</td>\n",
              "      <td>N</td>\n",
              "      <td>N</td>\n",
              "      <td>N</td>\n",
              "      <td>N</td>\n",
              "      <td>Y</td>\n",
              "      <td>PA</td>\n",
              "      <td>auntminnie-b-2020_01_28_23_51_6665_2020_01_28_...</td>\n",
              "      <td>On January 22, 2020, a 65-year-old man with a ...</td>\n",
              "      <td>1</td>\n",
              "      <td>[0.24965343, 0.12475621, -0.047701336, 0.18407...</td>\n",
              "      <td>[0.015778346, -0.058980826, -0.0014589406, -0....</td>\n",
              "    </tr>\n",
              "    <tr>\n",
              "      <th>2</th>\n",
              "      <td>5.0</td>\n",
              "      <td>M</td>\n",
              "      <td>65.0</td>\n",
              "      <td>COVID-19</td>\n",
              "      <td>Y</td>\n",
              "      <td>N</td>\n",
              "      <td>N</td>\n",
              "      <td>N</td>\n",
              "      <td>N</td>\n",
              "      <td>Y</td>\n",
              "      <td>PA</td>\n",
              "      <td>auntminnie-c-2020_01_28_23_51_6665_2020_01_28_...</td>\n",
              "      <td>On January 22, 2020, a 65-year-old man with a ...</td>\n",
              "      <td>1</td>\n",
              "      <td>[0.18539263, 0.16858068, 0.020502465, 0.060199...</td>\n",
              "      <td>[0.015778346, -0.058980826, -0.0014589406, -0....</td>\n",
              "    </tr>\n",
              "    <tr>\n",
              "      <th>3</th>\n",
              "      <td>6.0</td>\n",
              "      <td>M</td>\n",
              "      <td>65.0</td>\n",
              "      <td>COVID-19</td>\n",
              "      <td>Y</td>\n",
              "      <td>N</td>\n",
              "      <td>N</td>\n",
              "      <td>N</td>\n",
              "      <td>N</td>\n",
              "      <td>Y</td>\n",
              "      <td>PA</td>\n",
              "      <td>auntminnie-d-2020_01_28_23_51_6665_2020_01_28_...</td>\n",
              "      <td>On January 22, 2020, a 65-year-old man with a ...</td>\n",
              "      <td>1</td>\n",
              "      <td>[0.20033258, 0.12199223, 0.019694442, 0.064149...</td>\n",
              "      <td>[-0.011988744, -0.03202686, 0.035648797, -0.07...</td>\n",
              "    </tr>\n",
              "    <tr>\n",
              "      <th>4</th>\n",
              "      <td>0.0</td>\n",
              "      <td>F</td>\n",
              "      <td>52.0</td>\n",
              "      <td>COVID-19</td>\n",
              "      <td>Y</td>\n",
              "      <td>N</td>\n",
              "      <td>N</td>\n",
              "      <td>N</td>\n",
              "      <td>N</td>\n",
              "      <td>N</td>\n",
              "      <td>PA</td>\n",
              "      <td>nejmc2001573_f1a.jpeg</td>\n",
              "      <td>diffuse infiltrates in the bilateral lower lungs</td>\n",
              "      <td>1</td>\n",
              "      <td>[0.11523124, 0.33968022, 0.024405614, 0.166120...</td>\n",
              "      <td>[0.056925807, -0.031200163, -0.33779252, 0.028...</td>\n",
              "    </tr>\n",
              "  </tbody>\n",
              "</table>\n",
              "</div>"
            ],
            "text/plain": [
              "   offset  ...                                    text_embeddings\n",
              "0     0.0  ...  [-0.010609061, -0.03510914, 0.013853411, -0.08...\n",
              "1     3.0  ...  [0.015778346, -0.058980826, -0.0014589406, -0....\n",
              "2     5.0  ...  [0.015778346, -0.058980826, -0.0014589406, -0....\n",
              "3     6.0  ...  [-0.011988744, -0.03202686, 0.035648797, -0.07...\n",
              "4     0.0  ...  [0.056925807, -0.031200163, -0.33779252, 0.028...\n",
              "\n",
              "[5 rows x 16 columns]"
            ]
          },
          "metadata": {
            "tags": []
          },
          "execution_count": 10
        }
      ]
    },
    {
      "cell_type": "markdown",
      "metadata": {
        "id": "3_7IQe0abIvv"
      },
      "source": [
        "# **Deal with Missing in Features** \n",
        "For offset and age feature, I've replaced the missing values with the most occurrring value as it shows the general trend of most of patient admitted.  \n",
        "\n",
        "And for rest all other features, I've replaced missing values with a tag 'Unclear'."
      ]
    },
    {
      "cell_type": "code",
      "metadata": {
        "colab": {
          "base_uri": "https://localhost:8080/",
          "height": 487
        },
        "id": "dCMzCKYW36jK",
        "outputId": "7319f4b5-35a8-4d1e-ccee-dd8169d32866"
      },
      "source": [
        "# Deal with null values present in columns by replacing null value with 'Unclear' string except in case of age and \n",
        "# offset where null values are replaced withthe mode of columns\n",
        "covid_metadata.age = covid_metadata.age.fillna(covid_metadata['age'].value_counts().max())\n",
        "covid_metadata.offset = covid_metadata.offset.fillna(covid_metadata['offset'].value_counts().max())\n",
        "covid_metadata.sex = covid_metadata.sex.fillna('Unclear')\n",
        "covid_metadata.RT_PCR_positive = covid_metadata.RT_PCR_positive.fillna('N')\n",
        "covid_metadata.intubated = covid_metadata.intubated.fillna('Unclear')\n",
        "covid_metadata.intubation_present = covid_metadata.intubation_present.fillna('Unclear')\n",
        "covid_metadata.in_icu = covid_metadata.in_icu.fillna('Unclear')\n",
        "covid_metadata.went_icu = covid_metadata.went_icu.fillna('Unclear')\n",
        "covid_metadata.needed_supplemental_O2 = covid_metadata.needed_supplemental_O2.fillna('Unclear')\n",
        "covid_metadata.head()"
      ],
      "execution_count": null,
      "outputs": [
        {
          "output_type": "execute_result",
          "data": {
            "text/html": [
              "<div>\n",
              "<style scoped>\n",
              "    .dataframe tbody tr th:only-of-type {\n",
              "        vertical-align: middle;\n",
              "    }\n",
              "\n",
              "    .dataframe tbody tr th {\n",
              "        vertical-align: top;\n",
              "    }\n",
              "\n",
              "    .dataframe thead th {\n",
              "        text-align: right;\n",
              "    }\n",
              "</style>\n",
              "<table border=\"1\" class=\"dataframe\">\n",
              "  <thead>\n",
              "    <tr style=\"text-align: right;\">\n",
              "      <th></th>\n",
              "      <th>offset</th>\n",
              "      <th>sex</th>\n",
              "      <th>age</th>\n",
              "      <th>finding</th>\n",
              "      <th>RT_PCR_positive</th>\n",
              "      <th>intubated</th>\n",
              "      <th>intubation_present</th>\n",
              "      <th>went_icu</th>\n",
              "      <th>in_icu</th>\n",
              "      <th>needed_supplemental_O2</th>\n",
              "      <th>view</th>\n",
              "      <th>filename</th>\n",
              "      <th>clinical_notes</th>\n",
              "      <th>label</th>\n",
              "      <th>image_embeddings</th>\n",
              "      <th>text_embeddings</th>\n",
              "    </tr>\n",
              "  </thead>\n",
              "  <tbody>\n",
              "    <tr>\n",
              "      <th>0</th>\n",
              "      <td>0.0</td>\n",
              "      <td>M</td>\n",
              "      <td>65.0</td>\n",
              "      <td>COVID-19</td>\n",
              "      <td>Y</td>\n",
              "      <td>N</td>\n",
              "      <td>N</td>\n",
              "      <td>N</td>\n",
              "      <td>N</td>\n",
              "      <td>Y</td>\n",
              "      <td>PA</td>\n",
              "      <td>auntminnie-a-2020_01_28_23_51_6665_2020_01_28_...</td>\n",
              "      <td>On January 22, 2020, a 65-year-old man with a ...</td>\n",
              "      <td>1</td>\n",
              "      <td>[0.16646779, 0.37802455, 0.043559056, 0.090420...</td>\n",
              "      <td>[-0.010609061, -0.03510914, 0.013853411, -0.08...</td>\n",
              "    </tr>\n",
              "    <tr>\n",
              "      <th>1</th>\n",
              "      <td>3.0</td>\n",
              "      <td>M</td>\n",
              "      <td>65.0</td>\n",
              "      <td>COVID-19</td>\n",
              "      <td>Y</td>\n",
              "      <td>N</td>\n",
              "      <td>N</td>\n",
              "      <td>N</td>\n",
              "      <td>N</td>\n",
              "      <td>Y</td>\n",
              "      <td>PA</td>\n",
              "      <td>auntminnie-b-2020_01_28_23_51_6665_2020_01_28_...</td>\n",
              "      <td>On January 22, 2020, a 65-year-old man with a ...</td>\n",
              "      <td>1</td>\n",
              "      <td>[0.24965343, 0.12475621, -0.047701336, 0.18407...</td>\n",
              "      <td>[0.015778346, -0.058980826, -0.0014589406, -0....</td>\n",
              "    </tr>\n",
              "    <tr>\n",
              "      <th>2</th>\n",
              "      <td>5.0</td>\n",
              "      <td>M</td>\n",
              "      <td>65.0</td>\n",
              "      <td>COVID-19</td>\n",
              "      <td>Y</td>\n",
              "      <td>N</td>\n",
              "      <td>N</td>\n",
              "      <td>N</td>\n",
              "      <td>N</td>\n",
              "      <td>Y</td>\n",
              "      <td>PA</td>\n",
              "      <td>auntminnie-c-2020_01_28_23_51_6665_2020_01_28_...</td>\n",
              "      <td>On January 22, 2020, a 65-year-old man with a ...</td>\n",
              "      <td>1</td>\n",
              "      <td>[0.18539263, 0.16858068, 0.020502465, 0.060199...</td>\n",
              "      <td>[0.015778346, -0.058980826, -0.0014589406, -0....</td>\n",
              "    </tr>\n",
              "    <tr>\n",
              "      <th>3</th>\n",
              "      <td>6.0</td>\n",
              "      <td>M</td>\n",
              "      <td>65.0</td>\n",
              "      <td>COVID-19</td>\n",
              "      <td>Y</td>\n",
              "      <td>N</td>\n",
              "      <td>N</td>\n",
              "      <td>N</td>\n",
              "      <td>N</td>\n",
              "      <td>Y</td>\n",
              "      <td>PA</td>\n",
              "      <td>auntminnie-d-2020_01_28_23_51_6665_2020_01_28_...</td>\n",
              "      <td>On January 22, 2020, a 65-year-old man with a ...</td>\n",
              "      <td>1</td>\n",
              "      <td>[0.20033258, 0.12199223, 0.019694442, 0.064149...</td>\n",
              "      <td>[-0.011988744, -0.03202686, 0.035648797, -0.07...</td>\n",
              "    </tr>\n",
              "    <tr>\n",
              "      <th>4</th>\n",
              "      <td>0.0</td>\n",
              "      <td>F</td>\n",
              "      <td>52.0</td>\n",
              "      <td>COVID-19</td>\n",
              "      <td>Y</td>\n",
              "      <td>N</td>\n",
              "      <td>N</td>\n",
              "      <td>N</td>\n",
              "      <td>N</td>\n",
              "      <td>N</td>\n",
              "      <td>PA</td>\n",
              "      <td>nejmc2001573_f1a.jpeg</td>\n",
              "      <td>diffuse infiltrates in the bilateral lower lungs</td>\n",
              "      <td>1</td>\n",
              "      <td>[0.11523124, 0.33968022, 0.024405614, 0.166120...</td>\n",
              "      <td>[0.056925807, -0.031200163, -0.33779252, 0.028...</td>\n",
              "    </tr>\n",
              "  </tbody>\n",
              "</table>\n",
              "</div>"
            ],
            "text/plain": [
              "   offset  ...                                    text_embeddings\n",
              "0     0.0  ...  [-0.010609061, -0.03510914, 0.013853411, -0.08...\n",
              "1     3.0  ...  [0.015778346, -0.058980826, -0.0014589406, -0....\n",
              "2     5.0  ...  [0.015778346, -0.058980826, -0.0014589406, -0....\n",
              "3     6.0  ...  [-0.011988744, -0.03202686, 0.035648797, -0.07...\n",
              "4     0.0  ...  [0.056925807, -0.031200163, -0.33779252, 0.028...\n",
              "\n",
              "[5 rows x 16 columns]"
            ]
          },
          "metadata": {
            "tags": []
          },
          "execution_count": 11
        }
      ]
    },
    {
      "cell_type": "markdown",
      "metadata": {
        "id": "rxZvRIwKb6Q6"
      },
      "source": [
        "# **Transform Age feature into Categorical feature**:\n",
        "I've transformed age feature into a categorical feature. This is because ages like 23, 24 or 25 won't make much difference. So I've divided them into appropriate bins."
      ]
    },
    {
      "cell_type": "code",
      "metadata": {
        "colab": {
          "base_uri": "https://localhost:8080/",
          "height": 487
        },
        "id": "FeJkrm6_4goj",
        "outputId": "1a455018-cd37-41d0-eea7-a6bccccdc8d9"
      },
      "source": [
        "# Divide age into bins\n",
        "covid_metadata.age = pd.cut(x=covid_metadata['age'], bins=[18, 28, 33, 38, 43, 48, 53, 58, 63, 68, 100], labels=[23, 30, 35, 40, 45, 50, 55, 60, 65, 70])\n",
        "covid_metadata.head()"
      ],
      "execution_count": null,
      "outputs": [
        {
          "output_type": "execute_result",
          "data": {
            "text/html": [
              "<div>\n",
              "<style scoped>\n",
              "    .dataframe tbody tr th:only-of-type {\n",
              "        vertical-align: middle;\n",
              "    }\n",
              "\n",
              "    .dataframe tbody tr th {\n",
              "        vertical-align: top;\n",
              "    }\n",
              "\n",
              "    .dataframe thead th {\n",
              "        text-align: right;\n",
              "    }\n",
              "</style>\n",
              "<table border=\"1\" class=\"dataframe\">\n",
              "  <thead>\n",
              "    <tr style=\"text-align: right;\">\n",
              "      <th></th>\n",
              "      <th>offset</th>\n",
              "      <th>sex</th>\n",
              "      <th>age</th>\n",
              "      <th>finding</th>\n",
              "      <th>RT_PCR_positive</th>\n",
              "      <th>intubated</th>\n",
              "      <th>intubation_present</th>\n",
              "      <th>went_icu</th>\n",
              "      <th>in_icu</th>\n",
              "      <th>needed_supplemental_O2</th>\n",
              "      <th>view</th>\n",
              "      <th>filename</th>\n",
              "      <th>clinical_notes</th>\n",
              "      <th>label</th>\n",
              "      <th>image_embeddings</th>\n",
              "      <th>text_embeddings</th>\n",
              "    </tr>\n",
              "  </thead>\n",
              "  <tbody>\n",
              "    <tr>\n",
              "      <th>0</th>\n",
              "      <td>0.0</td>\n",
              "      <td>M</td>\n",
              "      <td>65</td>\n",
              "      <td>COVID-19</td>\n",
              "      <td>Y</td>\n",
              "      <td>N</td>\n",
              "      <td>N</td>\n",
              "      <td>N</td>\n",
              "      <td>N</td>\n",
              "      <td>Y</td>\n",
              "      <td>PA</td>\n",
              "      <td>auntminnie-a-2020_01_28_23_51_6665_2020_01_28_...</td>\n",
              "      <td>On January 22, 2020, a 65-year-old man with a ...</td>\n",
              "      <td>1</td>\n",
              "      <td>[0.16646779, 0.37802455, 0.043559056, 0.090420...</td>\n",
              "      <td>[-0.010609061, -0.03510914, 0.013853411, -0.08...</td>\n",
              "    </tr>\n",
              "    <tr>\n",
              "      <th>1</th>\n",
              "      <td>3.0</td>\n",
              "      <td>M</td>\n",
              "      <td>65</td>\n",
              "      <td>COVID-19</td>\n",
              "      <td>Y</td>\n",
              "      <td>N</td>\n",
              "      <td>N</td>\n",
              "      <td>N</td>\n",
              "      <td>N</td>\n",
              "      <td>Y</td>\n",
              "      <td>PA</td>\n",
              "      <td>auntminnie-b-2020_01_28_23_51_6665_2020_01_28_...</td>\n",
              "      <td>On January 22, 2020, a 65-year-old man with a ...</td>\n",
              "      <td>1</td>\n",
              "      <td>[0.24965343, 0.12475621, -0.047701336, 0.18407...</td>\n",
              "      <td>[0.015778346, -0.058980826, -0.0014589406, -0....</td>\n",
              "    </tr>\n",
              "    <tr>\n",
              "      <th>2</th>\n",
              "      <td>5.0</td>\n",
              "      <td>M</td>\n",
              "      <td>65</td>\n",
              "      <td>COVID-19</td>\n",
              "      <td>Y</td>\n",
              "      <td>N</td>\n",
              "      <td>N</td>\n",
              "      <td>N</td>\n",
              "      <td>N</td>\n",
              "      <td>Y</td>\n",
              "      <td>PA</td>\n",
              "      <td>auntminnie-c-2020_01_28_23_51_6665_2020_01_28_...</td>\n",
              "      <td>On January 22, 2020, a 65-year-old man with a ...</td>\n",
              "      <td>1</td>\n",
              "      <td>[0.18539263, 0.16858068, 0.020502465, 0.060199...</td>\n",
              "      <td>[0.015778346, -0.058980826, -0.0014589406, -0....</td>\n",
              "    </tr>\n",
              "    <tr>\n",
              "      <th>3</th>\n",
              "      <td>6.0</td>\n",
              "      <td>M</td>\n",
              "      <td>65</td>\n",
              "      <td>COVID-19</td>\n",
              "      <td>Y</td>\n",
              "      <td>N</td>\n",
              "      <td>N</td>\n",
              "      <td>N</td>\n",
              "      <td>N</td>\n",
              "      <td>Y</td>\n",
              "      <td>PA</td>\n",
              "      <td>auntminnie-d-2020_01_28_23_51_6665_2020_01_28_...</td>\n",
              "      <td>On January 22, 2020, a 65-year-old man with a ...</td>\n",
              "      <td>1</td>\n",
              "      <td>[0.20033258, 0.12199223, 0.019694442, 0.064149...</td>\n",
              "      <td>[-0.011988744, -0.03202686, 0.035648797, -0.07...</td>\n",
              "    </tr>\n",
              "    <tr>\n",
              "      <th>4</th>\n",
              "      <td>0.0</td>\n",
              "      <td>F</td>\n",
              "      <td>50</td>\n",
              "      <td>COVID-19</td>\n",
              "      <td>Y</td>\n",
              "      <td>N</td>\n",
              "      <td>N</td>\n",
              "      <td>N</td>\n",
              "      <td>N</td>\n",
              "      <td>N</td>\n",
              "      <td>PA</td>\n",
              "      <td>nejmc2001573_f1a.jpeg</td>\n",
              "      <td>diffuse infiltrates in the bilateral lower lungs</td>\n",
              "      <td>1</td>\n",
              "      <td>[0.11523124, 0.33968022, 0.024405614, 0.166120...</td>\n",
              "      <td>[0.056925807, -0.031200163, -0.33779252, 0.028...</td>\n",
              "    </tr>\n",
              "  </tbody>\n",
              "</table>\n",
              "</div>"
            ],
            "text/plain": [
              "   offset  ...                                    text_embeddings\n",
              "0     0.0  ...  [-0.010609061, -0.03510914, 0.013853411, -0.08...\n",
              "1     3.0  ...  [0.015778346, -0.058980826, -0.0014589406, -0....\n",
              "2     5.0  ...  [0.015778346, -0.058980826, -0.0014589406, -0....\n",
              "3     6.0  ...  [-0.011988744, -0.03202686, 0.035648797, -0.07...\n",
              "4     0.0  ...  [0.056925807, -0.031200163, -0.33779252, 0.028...\n",
              "\n",
              "[5 rows x 16 columns]"
            ]
          },
          "metadata": {
            "tags": []
          },
          "execution_count": 12
        }
      ]
    },
    {
      "cell_type": "markdown",
      "metadata": {
        "id": "X8BIr6MEbv73"
      },
      "source": [
        "# **One-Hot Encode Categorical Features** "
      ]
    },
    {
      "cell_type": "code",
      "metadata": {
        "colab": {
          "base_uri": "https://localhost:8080/"
        },
        "id": "bdc2fiAs0gQz",
        "outputId": "3413f0fe-1fbb-4b6a-ec16-88335c410bba"
      },
      "source": [
        "# For encoding categorical data, install category_encoders\n",
        "!pip install category_encoders"
      ],
      "execution_count": null,
      "outputs": [
        {
          "output_type": "stream",
          "text": [
            "Collecting category_encoders\n",
            "\u001b[?25l  Downloading https://files.pythonhosted.org/packages/44/57/fcef41c248701ee62e8325026b90c432adea35555cbc870aff9cfba23727/category_encoders-2.2.2-py2.py3-none-any.whl (80kB)\n",
            "\r\u001b[K     |████                            | 10kB 14.8MB/s eta 0:00:01\r\u001b[K     |████████▏                       | 20kB 13.6MB/s eta 0:00:01\r\u001b[K     |████████████▏                   | 30kB 9.5MB/s eta 0:00:01\r\u001b[K     |████████████████▎               | 40kB 8.2MB/s eta 0:00:01\r\u001b[K     |████████████████████▎           | 51kB 5.6MB/s eta 0:00:01\r\u001b[K     |████████████████████████▍       | 61kB 5.9MB/s eta 0:00:01\r\u001b[K     |████████████████████████████▍   | 71kB 6.1MB/s eta 0:00:01\r\u001b[K     |████████████████████████████████| 81kB 4.4MB/s \n",
            "\u001b[?25hRequirement already satisfied: scikit-learn>=0.20.0 in /usr/local/lib/python3.6/dist-packages (from category_encoders) (0.22.2.post1)\n",
            "Requirement already satisfied: pandas>=0.21.1 in /usr/local/lib/python3.6/dist-packages (from category_encoders) (1.1.4)\n",
            "Requirement already satisfied: patsy>=0.5.1 in /usr/local/lib/python3.6/dist-packages (from category_encoders) (0.5.1)\n",
            "Requirement already satisfied: statsmodels>=0.9.0 in /usr/local/lib/python3.6/dist-packages (from category_encoders) (0.10.2)\n",
            "Requirement already satisfied: scipy>=1.0.0 in /usr/local/lib/python3.6/dist-packages (from category_encoders) (1.4.1)\n",
            "Requirement already satisfied: numpy>=1.14.0 in /usr/local/lib/python3.6/dist-packages (from category_encoders) (1.18.5)\n",
            "Requirement already satisfied: joblib>=0.11 in /usr/local/lib/python3.6/dist-packages (from scikit-learn>=0.20.0->category_encoders) (0.17.0)\n",
            "Requirement already satisfied: python-dateutil>=2.7.3 in /usr/local/lib/python3.6/dist-packages (from pandas>=0.21.1->category_encoders) (2.8.1)\n",
            "Requirement already satisfied: pytz>=2017.2 in /usr/local/lib/python3.6/dist-packages (from pandas>=0.21.1->category_encoders) (2018.9)\n",
            "Requirement already satisfied: six in /usr/local/lib/python3.6/dist-packages (from patsy>=0.5.1->category_encoders) (1.15.0)\n",
            "Installing collected packages: category-encoders\n",
            "Successfully installed category-encoders-2.2.2\n"
          ],
          "name": "stdout"
        }
      ]
    },
    {
      "cell_type": "code",
      "metadata": {
        "colab": {
          "base_uri": "https://localhost:8080/",
          "height": 573
        },
        "id": "5DDD3M2x0A0h",
        "outputId": "351d2656-7aca-465f-f3a2-0d3b259d48bd"
      },
      "source": [
        "import category_encoders as ce\n",
        "\n",
        "encoder = ce.OneHotEncoder(cols=['sex', 'age', 'RT_PCR_positive', 'intubated', 'intubation_present', 'went_icu', 'in_icu', 'needed_supplemental_O2', 'view'], handle_unknown='return_nan', return_df=True, use_cat_names=True)\n",
        "covid_metadata = encoder.fit_transform(covid_metadata)\n",
        "covid_metadata.head()"
      ],
      "execution_count": null,
      "outputs": [
        {
          "output_type": "stream",
          "text": [
            "/usr/local/lib/python3.6/dist-packages/statsmodels/tools/_testing.py:19: FutureWarning: pandas.util.testing is deprecated. Use the functions in the public API at pandas.testing instead.\n",
            "  import pandas.util.testing as tm\n",
            "/usr/local/lib/python3.6/dist-packages/category_encoders/utils.py:21: FutureWarning: is_categorical is deprecated and will be removed in a future version.  Use is_categorical_dtype instead\n",
            "  elif pd.api.types.is_categorical(cols):\n"
          ],
          "name": "stderr"
        },
        {
          "output_type": "execute_result",
          "data": {
            "text/html": [
              "<div>\n",
              "<style scoped>\n",
              "    .dataframe tbody tr th:only-of-type {\n",
              "        vertical-align: middle;\n",
              "    }\n",
              "\n",
              "    .dataframe tbody tr th {\n",
              "        vertical-align: top;\n",
              "    }\n",
              "\n",
              "    .dataframe thead th {\n",
              "        text-align: right;\n",
              "    }\n",
              "</style>\n",
              "<table border=\"1\" class=\"dataframe\">\n",
              "  <thead>\n",
              "    <tr style=\"text-align: right;\">\n",
              "      <th></th>\n",
              "      <th>offset</th>\n",
              "      <th>sex_M</th>\n",
              "      <th>sex_F</th>\n",
              "      <th>sex_Unclear</th>\n",
              "      <th>age_23.0</th>\n",
              "      <th>age_30.0</th>\n",
              "      <th>age_35.0</th>\n",
              "      <th>age_40.0</th>\n",
              "      <th>age_45.0</th>\n",
              "      <th>age_50.0</th>\n",
              "      <th>age_55.0</th>\n",
              "      <th>age_60.0</th>\n",
              "      <th>age_65.0</th>\n",
              "      <th>age_70.0</th>\n",
              "      <th>age_nan</th>\n",
              "      <th>finding</th>\n",
              "      <th>RT_PCR_positive_Y</th>\n",
              "      <th>RT_PCR_positive_N</th>\n",
              "      <th>RT_PCR_positive_Unclear</th>\n",
              "      <th>intubated_N</th>\n",
              "      <th>intubated_Y</th>\n",
              "      <th>intubated_Unclear</th>\n",
              "      <th>intubation_present_N</th>\n",
              "      <th>intubation_present_Y</th>\n",
              "      <th>intubation_present_Unclear</th>\n",
              "      <th>went_icu_N</th>\n",
              "      <th>went_icu_Y</th>\n",
              "      <th>went_icu_Unclear</th>\n",
              "      <th>in_icu_N</th>\n",
              "      <th>in_icu_Y</th>\n",
              "      <th>in_icu_Unclear</th>\n",
              "      <th>needed_supplemental_O2_Y</th>\n",
              "      <th>needed_supplemental_O2_N</th>\n",
              "      <th>needed_supplemental_O2_Unclear</th>\n",
              "      <th>view_PA</th>\n",
              "      <th>view_AP</th>\n",
              "      <th>view_L</th>\n",
              "      <th>view_Axial</th>\n",
              "      <th>view_AP Supine</th>\n",
              "      <th>view_Coronal</th>\n",
              "      <th>view_AP Erect</th>\n",
              "      <th>filename</th>\n",
              "      <th>clinical_notes</th>\n",
              "      <th>label</th>\n",
              "      <th>image_embeddings</th>\n",
              "      <th>text_embeddings</th>\n",
              "    </tr>\n",
              "  </thead>\n",
              "  <tbody>\n",
              "    <tr>\n",
              "      <th>0</th>\n",
              "      <td>0.0</td>\n",
              "      <td>1.0</td>\n",
              "      <td>0.0</td>\n",
              "      <td>0.0</td>\n",
              "      <td>0.0</td>\n",
              "      <td>0.0</td>\n",
              "      <td>0.0</td>\n",
              "      <td>0.0</td>\n",
              "      <td>0.0</td>\n",
              "      <td>0.0</td>\n",
              "      <td>0.0</td>\n",
              "      <td>0.0</td>\n",
              "      <td>1.0</td>\n",
              "      <td>0.0</td>\n",
              "      <td>0.0</td>\n",
              "      <td>COVID-19</td>\n",
              "      <td>1.0</td>\n",
              "      <td>0.0</td>\n",
              "      <td>0.0</td>\n",
              "      <td>1.0</td>\n",
              "      <td>0.0</td>\n",
              "      <td>0.0</td>\n",
              "      <td>1.0</td>\n",
              "      <td>0.0</td>\n",
              "      <td>0.0</td>\n",
              "      <td>1.0</td>\n",
              "      <td>0.0</td>\n",
              "      <td>0.0</td>\n",
              "      <td>1.0</td>\n",
              "      <td>0.0</td>\n",
              "      <td>0.0</td>\n",
              "      <td>1.0</td>\n",
              "      <td>0.0</td>\n",
              "      <td>0.0</td>\n",
              "      <td>1.0</td>\n",
              "      <td>0.0</td>\n",
              "      <td>0.0</td>\n",
              "      <td>0.0</td>\n",
              "      <td>0.0</td>\n",
              "      <td>0.0</td>\n",
              "      <td>0.0</td>\n",
              "      <td>auntminnie-a-2020_01_28_23_51_6665_2020_01_28_...</td>\n",
              "      <td>On January 22, 2020, a 65-year-old man with a ...</td>\n",
              "      <td>1</td>\n",
              "      <td>[0.16646779, 0.37802455, 0.043559056, 0.090420...</td>\n",
              "      <td>[-0.010609061, -0.03510914, 0.013853411, -0.08...</td>\n",
              "    </tr>\n",
              "    <tr>\n",
              "      <th>1</th>\n",
              "      <td>3.0</td>\n",
              "      <td>1.0</td>\n",
              "      <td>0.0</td>\n",
              "      <td>0.0</td>\n",
              "      <td>0.0</td>\n",
              "      <td>0.0</td>\n",
              "      <td>0.0</td>\n",
              "      <td>0.0</td>\n",
              "      <td>0.0</td>\n",
              "      <td>0.0</td>\n",
              "      <td>0.0</td>\n",
              "      <td>0.0</td>\n",
              "      <td>1.0</td>\n",
              "      <td>0.0</td>\n",
              "      <td>0.0</td>\n",
              "      <td>COVID-19</td>\n",
              "      <td>1.0</td>\n",
              "      <td>0.0</td>\n",
              "      <td>0.0</td>\n",
              "      <td>1.0</td>\n",
              "      <td>0.0</td>\n",
              "      <td>0.0</td>\n",
              "      <td>1.0</td>\n",
              "      <td>0.0</td>\n",
              "      <td>0.0</td>\n",
              "      <td>1.0</td>\n",
              "      <td>0.0</td>\n",
              "      <td>0.0</td>\n",
              "      <td>1.0</td>\n",
              "      <td>0.0</td>\n",
              "      <td>0.0</td>\n",
              "      <td>1.0</td>\n",
              "      <td>0.0</td>\n",
              "      <td>0.0</td>\n",
              "      <td>1.0</td>\n",
              "      <td>0.0</td>\n",
              "      <td>0.0</td>\n",
              "      <td>0.0</td>\n",
              "      <td>0.0</td>\n",
              "      <td>0.0</td>\n",
              "      <td>0.0</td>\n",
              "      <td>auntminnie-b-2020_01_28_23_51_6665_2020_01_28_...</td>\n",
              "      <td>On January 22, 2020, a 65-year-old man with a ...</td>\n",
              "      <td>1</td>\n",
              "      <td>[0.24965343, 0.12475621, -0.047701336, 0.18407...</td>\n",
              "      <td>[0.015778346, -0.058980826, -0.0014589406, -0....</td>\n",
              "    </tr>\n",
              "    <tr>\n",
              "      <th>2</th>\n",
              "      <td>5.0</td>\n",
              "      <td>1.0</td>\n",
              "      <td>0.0</td>\n",
              "      <td>0.0</td>\n",
              "      <td>0.0</td>\n",
              "      <td>0.0</td>\n",
              "      <td>0.0</td>\n",
              "      <td>0.0</td>\n",
              "      <td>0.0</td>\n",
              "      <td>0.0</td>\n",
              "      <td>0.0</td>\n",
              "      <td>0.0</td>\n",
              "      <td>1.0</td>\n",
              "      <td>0.0</td>\n",
              "      <td>0.0</td>\n",
              "      <td>COVID-19</td>\n",
              "      <td>1.0</td>\n",
              "      <td>0.0</td>\n",
              "      <td>0.0</td>\n",
              "      <td>1.0</td>\n",
              "      <td>0.0</td>\n",
              "      <td>0.0</td>\n",
              "      <td>1.0</td>\n",
              "      <td>0.0</td>\n",
              "      <td>0.0</td>\n",
              "      <td>1.0</td>\n",
              "      <td>0.0</td>\n",
              "      <td>0.0</td>\n",
              "      <td>1.0</td>\n",
              "      <td>0.0</td>\n",
              "      <td>0.0</td>\n",
              "      <td>1.0</td>\n",
              "      <td>0.0</td>\n",
              "      <td>0.0</td>\n",
              "      <td>1.0</td>\n",
              "      <td>0.0</td>\n",
              "      <td>0.0</td>\n",
              "      <td>0.0</td>\n",
              "      <td>0.0</td>\n",
              "      <td>0.0</td>\n",
              "      <td>0.0</td>\n",
              "      <td>auntminnie-c-2020_01_28_23_51_6665_2020_01_28_...</td>\n",
              "      <td>On January 22, 2020, a 65-year-old man with a ...</td>\n",
              "      <td>1</td>\n",
              "      <td>[0.18539263, 0.16858068, 0.020502465, 0.060199...</td>\n",
              "      <td>[0.015778346, -0.058980826, -0.0014589406, -0....</td>\n",
              "    </tr>\n",
              "    <tr>\n",
              "      <th>3</th>\n",
              "      <td>6.0</td>\n",
              "      <td>1.0</td>\n",
              "      <td>0.0</td>\n",
              "      <td>0.0</td>\n",
              "      <td>0.0</td>\n",
              "      <td>0.0</td>\n",
              "      <td>0.0</td>\n",
              "      <td>0.0</td>\n",
              "      <td>0.0</td>\n",
              "      <td>0.0</td>\n",
              "      <td>0.0</td>\n",
              "      <td>0.0</td>\n",
              "      <td>1.0</td>\n",
              "      <td>0.0</td>\n",
              "      <td>0.0</td>\n",
              "      <td>COVID-19</td>\n",
              "      <td>1.0</td>\n",
              "      <td>0.0</td>\n",
              "      <td>0.0</td>\n",
              "      <td>1.0</td>\n",
              "      <td>0.0</td>\n",
              "      <td>0.0</td>\n",
              "      <td>1.0</td>\n",
              "      <td>0.0</td>\n",
              "      <td>0.0</td>\n",
              "      <td>1.0</td>\n",
              "      <td>0.0</td>\n",
              "      <td>0.0</td>\n",
              "      <td>1.0</td>\n",
              "      <td>0.0</td>\n",
              "      <td>0.0</td>\n",
              "      <td>1.0</td>\n",
              "      <td>0.0</td>\n",
              "      <td>0.0</td>\n",
              "      <td>1.0</td>\n",
              "      <td>0.0</td>\n",
              "      <td>0.0</td>\n",
              "      <td>0.0</td>\n",
              "      <td>0.0</td>\n",
              "      <td>0.0</td>\n",
              "      <td>0.0</td>\n",
              "      <td>auntminnie-d-2020_01_28_23_51_6665_2020_01_28_...</td>\n",
              "      <td>On January 22, 2020, a 65-year-old man with a ...</td>\n",
              "      <td>1</td>\n",
              "      <td>[0.20033258, 0.12199223, 0.019694442, 0.064149...</td>\n",
              "      <td>[-0.011988744, -0.03202686, 0.035648797, -0.07...</td>\n",
              "    </tr>\n",
              "    <tr>\n",
              "      <th>4</th>\n",
              "      <td>0.0</td>\n",
              "      <td>0.0</td>\n",
              "      <td>1.0</td>\n",
              "      <td>0.0</td>\n",
              "      <td>0.0</td>\n",
              "      <td>0.0</td>\n",
              "      <td>0.0</td>\n",
              "      <td>0.0</td>\n",
              "      <td>0.0</td>\n",
              "      <td>1.0</td>\n",
              "      <td>0.0</td>\n",
              "      <td>0.0</td>\n",
              "      <td>0.0</td>\n",
              "      <td>0.0</td>\n",
              "      <td>0.0</td>\n",
              "      <td>COVID-19</td>\n",
              "      <td>1.0</td>\n",
              "      <td>0.0</td>\n",
              "      <td>0.0</td>\n",
              "      <td>1.0</td>\n",
              "      <td>0.0</td>\n",
              "      <td>0.0</td>\n",
              "      <td>1.0</td>\n",
              "      <td>0.0</td>\n",
              "      <td>0.0</td>\n",
              "      <td>1.0</td>\n",
              "      <td>0.0</td>\n",
              "      <td>0.0</td>\n",
              "      <td>1.0</td>\n",
              "      <td>0.0</td>\n",
              "      <td>0.0</td>\n",
              "      <td>0.0</td>\n",
              "      <td>1.0</td>\n",
              "      <td>0.0</td>\n",
              "      <td>1.0</td>\n",
              "      <td>0.0</td>\n",
              "      <td>0.0</td>\n",
              "      <td>0.0</td>\n",
              "      <td>0.0</td>\n",
              "      <td>0.0</td>\n",
              "      <td>0.0</td>\n",
              "      <td>nejmc2001573_f1a.jpeg</td>\n",
              "      <td>diffuse infiltrates in the bilateral lower lungs</td>\n",
              "      <td>1</td>\n",
              "      <td>[0.11523124, 0.33968022, 0.024405614, 0.166120...</td>\n",
              "      <td>[0.056925807, -0.031200163, -0.33779252, 0.028...</td>\n",
              "    </tr>\n",
              "  </tbody>\n",
              "</table>\n",
              "</div>"
            ],
            "text/plain": [
              "   offset  ...                                    text_embeddings\n",
              "0     0.0  ...  [-0.010609061, -0.03510914, 0.013853411, -0.08...\n",
              "1     3.0  ...  [0.015778346, -0.058980826, -0.0014589406, -0....\n",
              "2     5.0  ...  [0.015778346, -0.058980826, -0.0014589406, -0....\n",
              "3     6.0  ...  [-0.011988744, -0.03202686, 0.035648797, -0.07...\n",
              "4     0.0  ...  [0.056925807, -0.031200163, -0.33779252, 0.028...\n",
              "\n",
              "[5 rows x 46 columns]"
            ]
          },
          "metadata": {
            "tags": []
          },
          "execution_count": 14
        }
      ]
    },
    {
      "cell_type": "code",
      "metadata": {
        "colab": {
          "base_uri": "https://localhost:8080/"
        },
        "id": "9mBGfKcuGCCs",
        "outputId": "d0eef075-bae3-4c03-c223-7373c36b8b89"
      },
      "source": [
        "covid_metadata.info()"
      ],
      "execution_count": null,
      "outputs": [
        {
          "output_type": "stream",
          "text": [
            "<class 'pandas.core.frame.DataFrame'>\n",
            "Int64Index: 929 entries, 0 to 949\n",
            "Data columns (total 46 columns):\n",
            " #   Column                          Non-Null Count  Dtype  \n",
            "---  ------                          --------------  -----  \n",
            " 0   offset                          929 non-null    float64\n",
            " 1   sex_M                           929 non-null    float64\n",
            " 2   sex_F                           929 non-null    float64\n",
            " 3   sex_Unclear                     929 non-null    float64\n",
            " 4   age_23.0                        929 non-null    float64\n",
            " 5   age_30.0                        929 non-null    float64\n",
            " 6   age_35.0                        929 non-null    float64\n",
            " 7   age_40.0                        929 non-null    float64\n",
            " 8   age_45.0                        929 non-null    float64\n",
            " 9   age_50.0                        929 non-null    float64\n",
            " 10  age_55.0                        929 non-null    float64\n",
            " 11  age_60.0                        929 non-null    float64\n",
            " 12  age_65.0                        929 non-null    float64\n",
            " 13  age_70.0                        929 non-null    float64\n",
            " 14  age_nan                         929 non-null    float64\n",
            " 15  finding                         929 non-null    object \n",
            " 16  RT_PCR_positive_Y               929 non-null    float64\n",
            " 17  RT_PCR_positive_N               929 non-null    float64\n",
            " 18  RT_PCR_positive_Unclear         929 non-null    float64\n",
            " 19  intubated_N                     929 non-null    float64\n",
            " 20  intubated_Y                     929 non-null    float64\n",
            " 21  intubated_Unclear               929 non-null    float64\n",
            " 22  intubation_present_N            929 non-null    float64\n",
            " 23  intubation_present_Y            929 non-null    float64\n",
            " 24  intubation_present_Unclear      929 non-null    float64\n",
            " 25  went_icu_N                      929 non-null    float64\n",
            " 26  went_icu_Y                      929 non-null    float64\n",
            " 27  went_icu_Unclear                929 non-null    float64\n",
            " 28  in_icu_N                        929 non-null    float64\n",
            " 29  in_icu_Y                        929 non-null    float64\n",
            " 30  in_icu_Unclear                  929 non-null    float64\n",
            " 31  needed_supplemental_O2_Y        929 non-null    float64\n",
            " 32  needed_supplemental_O2_N        929 non-null    float64\n",
            " 33  needed_supplemental_O2_Unclear  929 non-null    float64\n",
            " 34  view_PA                         929 non-null    float64\n",
            " 35  view_AP                         929 non-null    float64\n",
            " 36  view_L                          929 non-null    float64\n",
            " 37  view_Axial                      929 non-null    float64\n",
            " 38  view_AP Supine                  929 non-null    float64\n",
            " 39  view_Coronal                    929 non-null    float64\n",
            " 40  view_AP Erect                   929 non-null    float64\n",
            " 41  filename                        929 non-null    object \n",
            " 42  clinical_notes                  747 non-null    object \n",
            " 43  label                           929 non-null    int64  \n",
            " 44  image_embeddings                929 non-null    object \n",
            " 45  text_embeddings                 929 non-null    object \n",
            "dtypes: float64(40), int64(1), object(5)\n",
            "memory usage: 341.1+ KB\n"
          ],
          "name": "stdout"
        }
      ]
    },
    {
      "cell_type": "markdown",
      "metadata": {
        "id": "W-M0xFIpw9Dr"
      },
      "source": [
        "# **Random Forest Classifiers**"
      ]
    },
    {
      "cell_type": "code",
      "metadata": {
        "id": "3erJrCWvYv7F"
      },
      "source": [
        "import numpy as np\n",
        "from sklearn.ensemble import RandomForestClassifier\n",
        "from sklearn.model_selection import train_test_split\n",
        "\n",
        "test_size = 0.15\n",
        "random_state_split = 16\n",
        "random_state_classifier = 0"
      ],
      "execution_count": null,
      "outputs": []
    },
    {
      "cell_type": "markdown",
      "metadata": {
        "id": "HVoeu8AAcKxh"
      },
      "source": [
        "## Random Forest Classifeir for Image Embeddings:"
      ]
    },
    {
      "cell_type": "code",
      "metadata": {
        "id": "TXG3STr6HUPx"
      },
      "source": [
        "# Load data\n",
        "X = covid_metadata.image_embeddings\n",
        "y = covid_metadata.label"
      ],
      "execution_count": null,
      "outputs": []
    },
    {
      "cell_type": "code",
      "metadata": {
        "colab": {
          "base_uri": "https://localhost:8080/"
        },
        "id": "tPfj343Rkwjn",
        "outputId": "2db79a20-8135-4d1c-b314-5a8724382274"
      },
      "source": [
        "X.head()"
      ],
      "execution_count": null,
      "outputs": [
        {
          "output_type": "execute_result",
          "data": {
            "text/plain": [
              "0    [0.16646779, 0.37802455, 0.043559056, 0.090420...\n",
              "1    [0.24965343, 0.12475621, -0.047701336, 0.18407...\n",
              "2    [0.18539263, 0.16858068, 0.020502465, 0.060199...\n",
              "3    [0.20033258, 0.12199223, 0.019694442, 0.064149...\n",
              "4    [0.11523124, 0.33968022, 0.024405614, 0.166120...\n",
              "Name: image_embeddings, dtype: object"
            ]
          },
          "metadata": {
            "tags": []
          },
          "execution_count": 18
        }
      ]
    },
    {
      "cell_type": "code",
      "metadata": {
        "colab": {
          "base_uri": "https://localhost:8080/"
        },
        "id": "JsKkEqzRHUVd",
        "outputId": "9a13491d-d67a-411d-b83d-35cfb39e4179"
      },
      "source": [
        "y.head()"
      ],
      "execution_count": null,
      "outputs": [
        {
          "output_type": "execute_result",
          "data": {
            "text/plain": [
              "0    1\n",
              "1    1\n",
              "2    1\n",
              "3    1\n",
              "4    1\n",
              "Name: label, dtype: int64"
            ]
          },
          "metadata": {
            "tags": []
          },
          "execution_count": 19
        }
      ]
    },
    {
      "cell_type": "code",
      "metadata": {
        "colab": {
          "base_uri": "https://localhost:8080/"
        },
        "id": "qAATwaCZHUSi",
        "outputId": "59a0213b-782e-4024-8b0d-81296271e59f"
      },
      "source": [
        "# Split data\n",
        "X_train, X_test, y_train, y_test = train_test_split(X, y, test_size=test_size, random_state=random_state_split)\n",
        "\n",
        "print(\"Shape of original dataset :\", covid_metadata.shape)\n",
        "print(\"Shape of input - training set\", X_train.shape)\n",
        "print(\"Shape of output - training set\", y_train.shape)\n",
        "print(\"Shape of input - testing set\", X_test.shape)\n",
        "print(\"Shape of output - testing set\", y_test.shape)"
      ],
      "execution_count": null,
      "outputs": [
        {
          "output_type": "stream",
          "text": [
            "Shape of original dataset : (929, 46)\n",
            "Shape of input - training set (789,)\n",
            "Shape of output - training set (789,)\n",
            "Shape of input - testing set (140,)\n",
            "Shape of output - testing set (140,)\n"
          ],
          "name": "stdout"
        }
      ]
    },
    {
      "cell_type": "code",
      "metadata": {
        "id": "i3wligJo3zzK"
      },
      "source": [
        "# Prepare data\n",
        "tX_train = list()\n",
        "for i in X_train:\n",
        "  tX_train.append(list(i))\n",
        "tX_train = np.array(tX_train)  \n",
        "\n",
        "\n",
        "tX_test = list()\n",
        "for i in X_test:\n",
        "  tX_test.append(list(i))\n",
        "tX_test = np.array(tX_test)\n",
        "\n",
        "\n",
        "ty_train = list()\n",
        "for i in y_train:\n",
        "  ty_train.append(i)\n",
        "ty_train = np.array(ty_train)\n",
        "\n",
        "\n",
        "ty_test = list()\n",
        "for i in y_test:\n",
        "  ty_test.append(i)\n",
        "ty_test = np.array(ty_test)"
      ],
      "execution_count": null,
      "outputs": []
    },
    {
      "cell_type": "code",
      "metadata": {
        "colab": {
          "base_uri": "https://localhost:8080/"
        },
        "id": "Lrw8zZUU2FSU",
        "outputId": "ac511d50-6e48-453f-fb8a-21bdddc04939"
      },
      "source": [
        "# Train classifier\n",
        "clf_image = RandomForestClassifier(n_estimators=100, random_state=random_state_classifier)\n",
        "clf_image.fit(tX_train, ty_train)\n",
        "\n",
        "# Predict using classifier\n",
        "y_pred_image = clf_image.predict(tX_test)\n",
        "acc = sum(y_pred_image  == ty_test)/len(tX_test) * 100\n",
        "\n",
        "print(f\"Valdiation set accuracy: {str(acc)[:5]}\")"
      ],
      "execution_count": null,
      "outputs": [
        {
          "output_type": "stream",
          "text": [
            "Valdiation set accuracy: 80.71\n"
          ],
          "name": "stdout"
        }
      ]
    },
    {
      "cell_type": "markdown",
      "metadata": {
        "id": "9PAMrrywWYS3"
      },
      "source": [
        "## Random Forest Classifier for Clinical Notes (Text Embeddings)"
      ]
    },
    {
      "cell_type": "code",
      "metadata": {
        "id": "IzJFGT7n9ooh"
      },
      "source": [
        "# Load data\n",
        "X = covid_metadata.text_embeddings\n",
        "y = covid_metadata.label"
      ],
      "execution_count": null,
      "outputs": []
    },
    {
      "cell_type": "code",
      "metadata": {
        "colab": {
          "base_uri": "https://localhost:8080/"
        },
        "id": "tmx74CLbkoYp",
        "outputId": "471f0511-9317-4a42-d147-ae91e2572aa7"
      },
      "source": [
        "X.head()"
      ],
      "execution_count": null,
      "outputs": [
        {
          "output_type": "execute_result",
          "data": {
            "text/plain": [
              "0    [-0.010609061, -0.03510914, 0.013853411, -0.08...\n",
              "1    [0.015778346, -0.058980826, -0.0014589406, -0....\n",
              "2    [0.015778346, -0.058980826, -0.0014589406, -0....\n",
              "3    [-0.011988744, -0.03202686, 0.035648797, -0.07...\n",
              "4    [0.056925807, -0.031200163, -0.33779252, 0.028...\n",
              "Name: text_embeddings, dtype: object"
            ]
          },
          "metadata": {
            "tags": []
          },
          "execution_count": 24
        }
      ]
    },
    {
      "cell_type": "code",
      "metadata": {
        "colab": {
          "base_uri": "https://localhost:8080/"
        },
        "id": "ICqB2VN21Jja",
        "outputId": "144c453c-42d7-4ce0-b587-beab0dad6f0b"
      },
      "source": [
        "y.head()"
      ],
      "execution_count": null,
      "outputs": [
        {
          "output_type": "execute_result",
          "data": {
            "text/plain": [
              "0    1\n",
              "1    1\n",
              "2    1\n",
              "3    1\n",
              "4    1\n",
              "Name: label, dtype: int64"
            ]
          },
          "metadata": {
            "tags": []
          },
          "execution_count": 25
        }
      ]
    },
    {
      "cell_type": "code",
      "metadata": {
        "colab": {
          "base_uri": "https://localhost:8080/"
        },
        "id": "lanU8T291LIH",
        "outputId": "d2ba7820-1745-4b3d-a7b0-4f3534113c67"
      },
      "source": [
        "# Split data\n",
        "X_train, X_test, y_train, y_test = train_test_split(X, y, test_size=test_size, random_state=random_state_split)\n",
        "\n",
        "print(\"Shape of original dataset :\", covid_metadata.shape)\n",
        "print(\"Shape of input - training set\", X_train.shape)\n",
        "print(\"Shape of output - training set\", y_train.shape)\n",
        "print(\"Shape of input - testing set\", X_test.shape)\n",
        "print(\"Shape of output - testing set\", y_test.shape)"
      ],
      "execution_count": null,
      "outputs": [
        {
          "output_type": "stream",
          "text": [
            "Shape of original dataset : (929, 46)\n",
            "Shape of input - training set (789,)\n",
            "Shape of output - training set (789,)\n",
            "Shape of input - testing set (140,)\n",
            "Shape of output - testing set (140,)\n"
          ],
          "name": "stdout"
        }
      ]
    },
    {
      "cell_type": "code",
      "metadata": {
        "id": "t9dMh8Aw_Ka-"
      },
      "source": [
        "# Prepare data\n",
        "tX_train = list()\n",
        "for i in X_train:\n",
        "  tX_train.append(list(i))\n",
        "tX_train = np.array(tX_train)\n",
        "\n",
        "\n",
        "tX_test = list()\n",
        "for i in X_test:\n",
        "  tX_test.append(list(i))\n",
        "tX_test = np.array(tX_test)\n",
        "\n",
        "\n",
        "ty_train = list()\n",
        "for i in y_train:\n",
        "  ty_train.append(i)\n",
        "ty_train = np.array(ty_train)\n",
        "\n",
        "\n",
        "ty_test = list()\n",
        "for i in y_test:\n",
        "  ty_test.append(i)\n",
        "ty_test = np.array(ty_test)"
      ],
      "execution_count": null,
      "outputs": []
    },
    {
      "cell_type": "code",
      "metadata": {
        "colab": {
          "base_uri": "https://localhost:8080/"
        },
        "id": "CvpT4FZu_SdT",
        "outputId": "1396ee8f-35fc-482c-d76e-34dfc47b12e0"
      },
      "source": [
        "# Train classifier\n",
        "clf_text = RandomForestClassifier(random_state=random_state_classifier)\n",
        "clf_text.fit(tX_train, ty_train)\n",
        "\n",
        "# Predict using classifier\n",
        "y_pred_text = clf_text.predict(tX_test)\n",
        "acc = sum(y_pred_text  == ty_test)/len(tX_test) * 100\n",
        "\n",
        "print(f\"Valdiation set accuracy: {str(acc)[:5]}%.\")"
      ],
      "execution_count": null,
      "outputs": [
        {
          "output_type": "stream",
          "text": [
            "Valdiation set accuracy: 78.57%.\n"
          ],
          "name": "stdout"
        }
      ]
    },
    {
      "cell_type": "markdown",
      "metadata": {
        "id": "9MtA9J0-Vw2g"
      },
      "source": [
        "## Random Forest Classifier for Patient Features"
      ]
    },
    {
      "cell_type": "code",
      "metadata": {
        "id": "QWcU1Y75BDCf"
      },
      "source": [
        "# Load data\n",
        "y = covid_metadata.label\n",
        "X = covid_metadata.drop([\"finding\", \"filename\", \"clinical_notes\", \"label\", \"image_embeddings\", \"text_embeddings\"], axis=1)"
      ],
      "execution_count": null,
      "outputs": []
    },
    {
      "cell_type": "code",
      "metadata": {
        "colab": {
          "base_uri": "https://localhost:8080/",
          "height": 243
        },
        "id": "CyFpy5Imkp41",
        "outputId": "409a5fc4-b385-4184-810f-bcadad2ccf3e"
      },
      "source": [
        "X.head()"
      ],
      "execution_count": null,
      "outputs": [
        {
          "output_type": "execute_result",
          "data": {
            "text/html": [
              "<div>\n",
              "<style scoped>\n",
              "    .dataframe tbody tr th:only-of-type {\n",
              "        vertical-align: middle;\n",
              "    }\n",
              "\n",
              "    .dataframe tbody tr th {\n",
              "        vertical-align: top;\n",
              "    }\n",
              "\n",
              "    .dataframe thead th {\n",
              "        text-align: right;\n",
              "    }\n",
              "</style>\n",
              "<table border=\"1\" class=\"dataframe\">\n",
              "  <thead>\n",
              "    <tr style=\"text-align: right;\">\n",
              "      <th></th>\n",
              "      <th>offset</th>\n",
              "      <th>sex_M</th>\n",
              "      <th>sex_F</th>\n",
              "      <th>sex_Unclear</th>\n",
              "      <th>age_23.0</th>\n",
              "      <th>age_30.0</th>\n",
              "      <th>age_35.0</th>\n",
              "      <th>age_40.0</th>\n",
              "      <th>age_45.0</th>\n",
              "      <th>age_50.0</th>\n",
              "      <th>age_55.0</th>\n",
              "      <th>age_60.0</th>\n",
              "      <th>age_65.0</th>\n",
              "      <th>age_70.0</th>\n",
              "      <th>age_nan</th>\n",
              "      <th>RT_PCR_positive_Y</th>\n",
              "      <th>RT_PCR_positive_N</th>\n",
              "      <th>RT_PCR_positive_Unclear</th>\n",
              "      <th>intubated_N</th>\n",
              "      <th>intubated_Y</th>\n",
              "      <th>intubated_Unclear</th>\n",
              "      <th>intubation_present_N</th>\n",
              "      <th>intubation_present_Y</th>\n",
              "      <th>intubation_present_Unclear</th>\n",
              "      <th>went_icu_N</th>\n",
              "      <th>went_icu_Y</th>\n",
              "      <th>went_icu_Unclear</th>\n",
              "      <th>in_icu_N</th>\n",
              "      <th>in_icu_Y</th>\n",
              "      <th>in_icu_Unclear</th>\n",
              "      <th>needed_supplemental_O2_Y</th>\n",
              "      <th>needed_supplemental_O2_N</th>\n",
              "      <th>needed_supplemental_O2_Unclear</th>\n",
              "      <th>view_PA</th>\n",
              "      <th>view_AP</th>\n",
              "      <th>view_L</th>\n",
              "      <th>view_Axial</th>\n",
              "      <th>view_AP Supine</th>\n",
              "      <th>view_Coronal</th>\n",
              "      <th>view_AP Erect</th>\n",
              "    </tr>\n",
              "  </thead>\n",
              "  <tbody>\n",
              "    <tr>\n",
              "      <th>0</th>\n",
              "      <td>0.0</td>\n",
              "      <td>1.0</td>\n",
              "      <td>0.0</td>\n",
              "      <td>0.0</td>\n",
              "      <td>0.0</td>\n",
              "      <td>0.0</td>\n",
              "      <td>0.0</td>\n",
              "      <td>0.0</td>\n",
              "      <td>0.0</td>\n",
              "      <td>0.0</td>\n",
              "      <td>0.0</td>\n",
              "      <td>0.0</td>\n",
              "      <td>1.0</td>\n",
              "      <td>0.0</td>\n",
              "      <td>0.0</td>\n",
              "      <td>1.0</td>\n",
              "      <td>0.0</td>\n",
              "      <td>0.0</td>\n",
              "      <td>1.0</td>\n",
              "      <td>0.0</td>\n",
              "      <td>0.0</td>\n",
              "      <td>1.0</td>\n",
              "      <td>0.0</td>\n",
              "      <td>0.0</td>\n",
              "      <td>1.0</td>\n",
              "      <td>0.0</td>\n",
              "      <td>0.0</td>\n",
              "      <td>1.0</td>\n",
              "      <td>0.0</td>\n",
              "      <td>0.0</td>\n",
              "      <td>1.0</td>\n",
              "      <td>0.0</td>\n",
              "      <td>0.0</td>\n",
              "      <td>1.0</td>\n",
              "      <td>0.0</td>\n",
              "      <td>0.0</td>\n",
              "      <td>0.0</td>\n",
              "      <td>0.0</td>\n",
              "      <td>0.0</td>\n",
              "      <td>0.0</td>\n",
              "    </tr>\n",
              "    <tr>\n",
              "      <th>1</th>\n",
              "      <td>3.0</td>\n",
              "      <td>1.0</td>\n",
              "      <td>0.0</td>\n",
              "      <td>0.0</td>\n",
              "      <td>0.0</td>\n",
              "      <td>0.0</td>\n",
              "      <td>0.0</td>\n",
              "      <td>0.0</td>\n",
              "      <td>0.0</td>\n",
              "      <td>0.0</td>\n",
              "      <td>0.0</td>\n",
              "      <td>0.0</td>\n",
              "      <td>1.0</td>\n",
              "      <td>0.0</td>\n",
              "      <td>0.0</td>\n",
              "      <td>1.0</td>\n",
              "      <td>0.0</td>\n",
              "      <td>0.0</td>\n",
              "      <td>1.0</td>\n",
              "      <td>0.0</td>\n",
              "      <td>0.0</td>\n",
              "      <td>1.0</td>\n",
              "      <td>0.0</td>\n",
              "      <td>0.0</td>\n",
              "      <td>1.0</td>\n",
              "      <td>0.0</td>\n",
              "      <td>0.0</td>\n",
              "      <td>1.0</td>\n",
              "      <td>0.0</td>\n",
              "      <td>0.0</td>\n",
              "      <td>1.0</td>\n",
              "      <td>0.0</td>\n",
              "      <td>0.0</td>\n",
              "      <td>1.0</td>\n",
              "      <td>0.0</td>\n",
              "      <td>0.0</td>\n",
              "      <td>0.0</td>\n",
              "      <td>0.0</td>\n",
              "      <td>0.0</td>\n",
              "      <td>0.0</td>\n",
              "    </tr>\n",
              "    <tr>\n",
              "      <th>2</th>\n",
              "      <td>5.0</td>\n",
              "      <td>1.0</td>\n",
              "      <td>0.0</td>\n",
              "      <td>0.0</td>\n",
              "      <td>0.0</td>\n",
              "      <td>0.0</td>\n",
              "      <td>0.0</td>\n",
              "      <td>0.0</td>\n",
              "      <td>0.0</td>\n",
              "      <td>0.0</td>\n",
              "      <td>0.0</td>\n",
              "      <td>0.0</td>\n",
              "      <td>1.0</td>\n",
              "      <td>0.0</td>\n",
              "      <td>0.0</td>\n",
              "      <td>1.0</td>\n",
              "      <td>0.0</td>\n",
              "      <td>0.0</td>\n",
              "      <td>1.0</td>\n",
              "      <td>0.0</td>\n",
              "      <td>0.0</td>\n",
              "      <td>1.0</td>\n",
              "      <td>0.0</td>\n",
              "      <td>0.0</td>\n",
              "      <td>1.0</td>\n",
              "      <td>0.0</td>\n",
              "      <td>0.0</td>\n",
              "      <td>1.0</td>\n",
              "      <td>0.0</td>\n",
              "      <td>0.0</td>\n",
              "      <td>1.0</td>\n",
              "      <td>0.0</td>\n",
              "      <td>0.0</td>\n",
              "      <td>1.0</td>\n",
              "      <td>0.0</td>\n",
              "      <td>0.0</td>\n",
              "      <td>0.0</td>\n",
              "      <td>0.0</td>\n",
              "      <td>0.0</td>\n",
              "      <td>0.0</td>\n",
              "    </tr>\n",
              "    <tr>\n",
              "      <th>3</th>\n",
              "      <td>6.0</td>\n",
              "      <td>1.0</td>\n",
              "      <td>0.0</td>\n",
              "      <td>0.0</td>\n",
              "      <td>0.0</td>\n",
              "      <td>0.0</td>\n",
              "      <td>0.0</td>\n",
              "      <td>0.0</td>\n",
              "      <td>0.0</td>\n",
              "      <td>0.0</td>\n",
              "      <td>0.0</td>\n",
              "      <td>0.0</td>\n",
              "      <td>1.0</td>\n",
              "      <td>0.0</td>\n",
              "      <td>0.0</td>\n",
              "      <td>1.0</td>\n",
              "      <td>0.0</td>\n",
              "      <td>0.0</td>\n",
              "      <td>1.0</td>\n",
              "      <td>0.0</td>\n",
              "      <td>0.0</td>\n",
              "      <td>1.0</td>\n",
              "      <td>0.0</td>\n",
              "      <td>0.0</td>\n",
              "      <td>1.0</td>\n",
              "      <td>0.0</td>\n",
              "      <td>0.0</td>\n",
              "      <td>1.0</td>\n",
              "      <td>0.0</td>\n",
              "      <td>0.0</td>\n",
              "      <td>1.0</td>\n",
              "      <td>0.0</td>\n",
              "      <td>0.0</td>\n",
              "      <td>1.0</td>\n",
              "      <td>0.0</td>\n",
              "      <td>0.0</td>\n",
              "      <td>0.0</td>\n",
              "      <td>0.0</td>\n",
              "      <td>0.0</td>\n",
              "      <td>0.0</td>\n",
              "    </tr>\n",
              "    <tr>\n",
              "      <th>4</th>\n",
              "      <td>0.0</td>\n",
              "      <td>0.0</td>\n",
              "      <td>1.0</td>\n",
              "      <td>0.0</td>\n",
              "      <td>0.0</td>\n",
              "      <td>0.0</td>\n",
              "      <td>0.0</td>\n",
              "      <td>0.0</td>\n",
              "      <td>0.0</td>\n",
              "      <td>1.0</td>\n",
              "      <td>0.0</td>\n",
              "      <td>0.0</td>\n",
              "      <td>0.0</td>\n",
              "      <td>0.0</td>\n",
              "      <td>0.0</td>\n",
              "      <td>1.0</td>\n",
              "      <td>0.0</td>\n",
              "      <td>0.0</td>\n",
              "      <td>1.0</td>\n",
              "      <td>0.0</td>\n",
              "      <td>0.0</td>\n",
              "      <td>1.0</td>\n",
              "      <td>0.0</td>\n",
              "      <td>0.0</td>\n",
              "      <td>1.0</td>\n",
              "      <td>0.0</td>\n",
              "      <td>0.0</td>\n",
              "      <td>1.0</td>\n",
              "      <td>0.0</td>\n",
              "      <td>0.0</td>\n",
              "      <td>0.0</td>\n",
              "      <td>1.0</td>\n",
              "      <td>0.0</td>\n",
              "      <td>1.0</td>\n",
              "      <td>0.0</td>\n",
              "      <td>0.0</td>\n",
              "      <td>0.0</td>\n",
              "      <td>0.0</td>\n",
              "      <td>0.0</td>\n",
              "      <td>0.0</td>\n",
              "    </tr>\n",
              "  </tbody>\n",
              "</table>\n",
              "</div>"
            ],
            "text/plain": [
              "   offset  sex_M  sex_F  ...  view_AP Supine  view_Coronal  view_AP Erect\n",
              "0     0.0    1.0    0.0  ...             0.0           0.0            0.0\n",
              "1     3.0    1.0    0.0  ...             0.0           0.0            0.0\n",
              "2     5.0    1.0    0.0  ...             0.0           0.0            0.0\n",
              "3     6.0    1.0    0.0  ...             0.0           0.0            0.0\n",
              "4     0.0    0.0    1.0  ...             0.0           0.0            0.0\n",
              "\n",
              "[5 rows x 40 columns]"
            ]
          },
          "metadata": {
            "tags": []
          },
          "execution_count": 30
        }
      ]
    },
    {
      "cell_type": "code",
      "metadata": {
        "colab": {
          "base_uri": "https://localhost:8080/"
        },
        "id": "VclC3xONkp7A",
        "outputId": "060c7aa0-a422-4fcc-8269-a3052eae20d0"
      },
      "source": [
        "y.head()"
      ],
      "execution_count": null,
      "outputs": [
        {
          "output_type": "execute_result",
          "data": {
            "text/plain": [
              "0    1\n",
              "1    1\n",
              "2    1\n",
              "3    1\n",
              "4    1\n",
              "Name: label, dtype: int64"
            ]
          },
          "metadata": {
            "tags": []
          },
          "execution_count": 31
        }
      ]
    },
    {
      "cell_type": "code",
      "metadata": {
        "colab": {
          "base_uri": "https://localhost:8080/"
        },
        "id": "71UWS4LNCKeU",
        "outputId": "f734ac06-9d09-4ee5-911c-7f72d2e40971"
      },
      "source": [
        "# Split data\n",
        "X_train, X_test, y_train, y_test = train_test_split(X, y, test_size=test_size, random_state=random_state_split)\n",
        "\n",
        "print(\"Shape of original dataset :\", covid_metadata.shape)\n",
        "print(\"Shape of input - training set\", X_train.shape)\n",
        "print(\"Shape of output - training set\", y_train.shape)\n",
        "print(\"Shape of input - testing set\", X_test.shape)\n",
        "print(\"Shape of output - testing set\", y_test.shape)"
      ],
      "execution_count": null,
      "outputs": [
        {
          "output_type": "stream",
          "text": [
            "Shape of original dataset : (929, 46)\n",
            "Shape of input - training set (789, 40)\n",
            "Shape of output - training set (789,)\n",
            "Shape of input - testing set (140, 40)\n",
            "Shape of output - testing set (140,)\n"
          ],
          "name": "stdout"
        }
      ]
    },
    {
      "cell_type": "code",
      "metadata": {
        "colab": {
          "base_uri": "https://localhost:8080/"
        },
        "id": "aFKxVGi3B75n",
        "outputId": "c02f7114-0e9e-4ab7-91a2-9ad208c759ee"
      },
      "source": [
        "# Train classifier\n",
        "clf_features = RandomForestClassifier(random_state=random_state_classifier)\n",
        "clf_features.fit(X_train, y_train)\n",
        "\n",
        "# Predict using classifier\n",
        "y_pred_features = clf_features.predict(X_test)\n",
        "acc = sum(y_pred_features  == y_test)/len(X_test) * 100\n",
        "\n",
        "print(f\"Valdiation set accuracy: {str(acc)[:5]}\")"
      ],
      "execution_count": null,
      "outputs": [
        {
          "output_type": "stream",
          "text": [
            "Valdiation set accuracy: 96.42\n"
          ],
          "name": "stdout"
        }
      ]
    },
    {
      "cell_type": "markdown",
      "metadata": {
        "id": "THUxd26SWlLk"
      },
      "source": [
        "# **Calculating Resultant Accuracy by Combining the predictions of each classifier**"
      ]
    },
    {
      "cell_type": "code",
      "metadata": {
        "id": "djQB3QKuyM0g"
      },
      "source": [
        "def covid_19_detection(y_pred_image, y_pred_text, y_pred_features):\n",
        "  res = list()\n",
        "  for i, j, k in zip(y_pred_image, y_pred_text, y_pred_features):\n",
        "    if (i+j+k) >= 2:\n",
        "      res.append(1)\n",
        "    else:\n",
        "      res.append(0)\n",
        "\n",
        "  return res\n",
        "\n",
        "y_pred = covid_19_detection(y_pred_image, y_pred_text, y_pred_features)"
      ],
      "execution_count": null,
      "outputs": []
    },
    {
      "cell_type": "code",
      "metadata": {
        "colab": {
          "base_uri": "https://localhost:8080/"
        },
        "id": "hyvtrSCeyM4a",
        "outputId": "b8137670-be7c-4a5b-dffd-a131da942cda"
      },
      "source": [
        "res_acc = sum(y_pred == y_test)/len(y_test) * 100\n",
        "print(f\"Resultant validation accuracy is: {str(res_acc)[:5]}%.\")"
      ],
      "execution_count": null,
      "outputs": [
        {
          "output_type": "stream",
          "text": [
            "Resultant validation accuracy is: 92.14%.\n"
          ],
          "name": "stdout"
        }
      ]
    }
  ]
}